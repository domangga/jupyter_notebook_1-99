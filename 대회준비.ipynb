{
 "cells": [
  {
   "cell_type": "code",
   "execution_count": 1,
   "id": "235b6daf",
   "metadata": {},
   "outputs": [],
   "source": [
    "import pandas as pd\n",
    "import numpy as np\n",
    "import matplotlib.pyplot as plt\n",
    "import seaborn as sns\n",
    "from matplotlib import style\n",
    "import plotly.graph_objects as go\n",
    "from plotly.subplots import make_subplots \n",
    "import warnings\n",
    "\n",
    "%matplotlib inline"
   ]
  },
  {
   "cell_type": "code",
   "execution_count": 2,
   "id": "1ef1bbd7",
   "metadata": {
    "scrolled": true
   },
   "outputs": [],
   "source": [
    "df=pd.read_csv(\"data/school_report_ver2.csv\",encoding=\"cp949\")"
   ]
  },
  {
   "cell_type": "code",
   "execution_count": 3,
   "id": "43c5d037",
   "metadata": {
    "scrolled": true
   },
   "outputs": [
    {
     "data": {
      "text/html": [
       "<div>\n",
       "<style scoped>\n",
       "    .dataframe tbody tr th:only-of-type {\n",
       "        vertical-align: middle;\n",
       "    }\n",
       "\n",
       "    .dataframe tbody tr th {\n",
       "        vertical-align: top;\n",
       "    }\n",
       "\n",
       "    .dataframe thead th {\n",
       "        text-align: right;\n",
       "    }\n",
       "</style>\n",
       "<table border=\"1\" class=\"dataframe\">\n",
       "  <thead>\n",
       "    <tr style=\"text-align: right;\">\n",
       "      <th></th>\n",
       "      <th>성별</th>\n",
       "      <th>전공</th>\n",
       "      <th>신장</th>\n",
       "      <th>몸무게</th>\n",
       "      <th>1학년평균성적</th>\n",
       "      <th>2학년평균성적</th>\n",
       "      <th>3학년평균성적</th>\n",
       "      <th>취미</th>\n",
       "      <th>일평균학습시간</th>\n",
       "      <th>집중공부시간</th>\n",
       "      <th>기대연봉</th>\n",
       "      <th>전공만족여부</th>\n",
       "      <th>전공관련취업선호도</th>\n",
       "      <th>일평균소셜미디어사용시간</th>\n",
       "      <th>통학시간</th>\n",
       "      <th>학업스트레스</th>\n",
       "      <th>교우관계스트레스</th>\n",
       "      <th>아르바이트여부</th>\n",
       "      <th>방과후수업여부</th>\n",
       "    </tr>\n",
       "  </thead>\n",
       "  <tbody>\n",
       "    <tr>\n",
       "      <th>0</th>\n",
       "      <td>Male</td>\n",
       "      <td>BCA</td>\n",
       "      <td>100.0</td>\n",
       "      <td>58.0</td>\n",
       "      <td>79.0</td>\n",
       "      <td>65.0</td>\n",
       "      <td>80.0</td>\n",
       "      <td>Video Games</td>\n",
       "      <td>0 - 30 minute</td>\n",
       "      <td>Morning</td>\n",
       "      <td>40000</td>\n",
       "      <td>No</td>\n",
       "      <td>50%</td>\n",
       "      <td>1.30 - 2 hour</td>\n",
       "      <td>30 - 60 minutes</td>\n",
       "      <td>나쁨</td>\n",
       "      <td>나쁨</td>\n",
       "      <td>No</td>\n",
       "      <td>No</td>\n",
       "    </tr>\n",
       "    <tr>\n",
       "      <th>1</th>\n",
       "      <td>Female</td>\n",
       "      <td>BCA</td>\n",
       "      <td>90.0</td>\n",
       "      <td>40.0</td>\n",
       "      <td>70.0</td>\n",
       "      <td>80.0</td>\n",
       "      <td>70.0</td>\n",
       "      <td>Cinema</td>\n",
       "      <td>30 - 60 minute</td>\n",
       "      <td>Morning</td>\n",
       "      <td>15000</td>\n",
       "      <td>Yes</td>\n",
       "      <td>75%</td>\n",
       "      <td>1 - 1.30 hour</td>\n",
       "      <td>0 - 30 minutes</td>\n",
       "      <td>나쁨</td>\n",
       "      <td>나쁨</td>\n",
       "      <td>No</td>\n",
       "      <td>No</td>\n",
       "    </tr>\n",
       "    <tr>\n",
       "      <th>2</th>\n",
       "      <td>Male</td>\n",
       "      <td>BCA</td>\n",
       "      <td>159.0</td>\n",
       "      <td>78.0</td>\n",
       "      <td>69.5</td>\n",
       "      <td>61.0</td>\n",
       "      <td>55.0</td>\n",
       "      <td>Cinema</td>\n",
       "      <td>1 - 2 Hour</td>\n",
       "      <td>Anytime</td>\n",
       "      <td>13000</td>\n",
       "      <td>Yes</td>\n",
       "      <td>50%</td>\n",
       "      <td>More than 2 hour</td>\n",
       "      <td>30 - 60 minutes</td>\n",
       "      <td>끔찍함</td>\n",
       "      <td>나쁨</td>\n",
       "      <td>No</td>\n",
       "      <td>Yes</td>\n",
       "    </tr>\n",
       "    <tr>\n",
       "      <th>3</th>\n",
       "      <td>Female</td>\n",
       "      <td>BCA</td>\n",
       "      <td>147.0</td>\n",
       "      <td>20.0</td>\n",
       "      <td>70.0</td>\n",
       "      <td>59.0</td>\n",
       "      <td>58.0</td>\n",
       "      <td>Reading books</td>\n",
       "      <td>1 - 2 Hour</td>\n",
       "      <td>Anytime</td>\n",
       "      <td>1500000</td>\n",
       "      <td>No</td>\n",
       "      <td>50%</td>\n",
       "      <td>1.30 - 2 hour</td>\n",
       "      <td>0 - 30 minutes</td>\n",
       "      <td>나쁨</td>\n",
       "      <td>좋음</td>\n",
       "      <td>No</td>\n",
       "      <td>Yes</td>\n",
       "    </tr>\n",
       "    <tr>\n",
       "      <th>4</th>\n",
       "      <td>Male</td>\n",
       "      <td>BCA</td>\n",
       "      <td>170.0</td>\n",
       "      <td>54.0</td>\n",
       "      <td>40.0</td>\n",
       "      <td>65.0</td>\n",
       "      <td>30.0</td>\n",
       "      <td>Video Games</td>\n",
       "      <td>30 - 60 minute</td>\n",
       "      <td>Morning</td>\n",
       "      <td>50000</td>\n",
       "      <td>Yes</td>\n",
       "      <td>25%</td>\n",
       "      <td>1.30 - 2 hour</td>\n",
       "      <td>30 - 60 minutes</td>\n",
       "      <td>좋음</td>\n",
       "      <td>좋음</td>\n",
       "      <td>No</td>\n",
       "      <td>No</td>\n",
       "    </tr>\n",
       "    <tr>\n",
       "      <th>...</th>\n",
       "      <td>...</td>\n",
       "      <td>...</td>\n",
       "      <td>...</td>\n",
       "      <td>...</td>\n",
       "      <td>...</td>\n",
       "      <td>...</td>\n",
       "      <td>...</td>\n",
       "      <td>...</td>\n",
       "      <td>...</td>\n",
       "      <td>...</td>\n",
       "      <td>...</td>\n",
       "      <td>...</td>\n",
       "      <td>...</td>\n",
       "      <td>...</td>\n",
       "      <td>...</td>\n",
       "      <td>...</td>\n",
       "      <td>...</td>\n",
       "      <td>...</td>\n",
       "      <td>...</td>\n",
       "    </tr>\n",
       "    <tr>\n",
       "      <th>230</th>\n",
       "      <td>Male</td>\n",
       "      <td>B.com ISM</td>\n",
       "      <td>170.0</td>\n",
       "      <td>76.0</td>\n",
       "      <td>72.0</td>\n",
       "      <td>67.0</td>\n",
       "      <td>65.0</td>\n",
       "      <td>Video Games</td>\n",
       "      <td>30 - 60 minute</td>\n",
       "      <td>Morning</td>\n",
       "      <td>7000</td>\n",
       "      <td>Yes</td>\n",
       "      <td>50%</td>\n",
       "      <td>More than 2 hour</td>\n",
       "      <td>30 - 60 minutes</td>\n",
       "      <td>나쁨</td>\n",
       "      <td>나쁨</td>\n",
       "      <td>No</td>\n",
       "      <td>Yes</td>\n",
       "    </tr>\n",
       "    <tr>\n",
       "      <th>231</th>\n",
       "      <td>Male</td>\n",
       "      <td>B.com ISM</td>\n",
       "      <td>172.0</td>\n",
       "      <td>52.0</td>\n",
       "      <td>72.0</td>\n",
       "      <td>70.0</td>\n",
       "      <td>76.0</td>\n",
       "      <td>Cinema</td>\n",
       "      <td>2 - 3 hour</td>\n",
       "      <td>Anytime</td>\n",
       "      <td>25000</td>\n",
       "      <td>Yes</td>\n",
       "      <td>75%</td>\n",
       "      <td>30 - 60 Minute</td>\n",
       "      <td>30 - 60 minutes</td>\n",
       "      <td>좋음</td>\n",
       "      <td>좋음</td>\n",
       "      <td>No</td>\n",
       "      <td>Yes</td>\n",
       "    </tr>\n",
       "    <tr>\n",
       "      <th>232</th>\n",
       "      <td>Female</td>\n",
       "      <td>BCA</td>\n",
       "      <td>139.0</td>\n",
       "      <td>33.0</td>\n",
       "      <td>90.0</td>\n",
       "      <td>75.0</td>\n",
       "      <td>70.0</td>\n",
       "      <td>Cinema</td>\n",
       "      <td>30 - 60 minute</td>\n",
       "      <td>Night</td>\n",
       "      <td>20000</td>\n",
       "      <td>Yes</td>\n",
       "      <td>50%</td>\n",
       "      <td>30 - 60 Minute</td>\n",
       "      <td>2.30 - 3 hour</td>\n",
       "      <td>나쁨</td>\n",
       "      <td>좋음</td>\n",
       "      <td>No</td>\n",
       "      <td>Yes</td>\n",
       "    </tr>\n",
       "    <tr>\n",
       "      <th>233</th>\n",
       "      <td>Female</td>\n",
       "      <td>Commerce</td>\n",
       "      <td>153.0</td>\n",
       "      <td>58.0</td>\n",
       "      <td>85.0</td>\n",
       "      <td>74.0</td>\n",
       "      <td>75.0</td>\n",
       "      <td>Cinema</td>\n",
       "      <td>0 - 30 minute</td>\n",
       "      <td>Anytime</td>\n",
       "      <td>20000</td>\n",
       "      <td>Yes</td>\n",
       "      <td>75%</td>\n",
       "      <td>More than 2 hour</td>\n",
       "      <td>2.30 - 3 hour</td>\n",
       "      <td>끔찍함</td>\n",
       "      <td>좋음</td>\n",
       "      <td>No</td>\n",
       "      <td>Yes</td>\n",
       "    </tr>\n",
       "    <tr>\n",
       "      <th>234</th>\n",
       "      <td>Female</td>\n",
       "      <td>B.com ISM</td>\n",
       "      <td>155.0</td>\n",
       "      <td>39.0</td>\n",
       "      <td>45.0</td>\n",
       "      <td>45.0</td>\n",
       "      <td>50.0</td>\n",
       "      <td>Sports</td>\n",
       "      <td>3 - 4 hour</td>\n",
       "      <td>Night</td>\n",
       "      <td>10</td>\n",
       "      <td>No</td>\n",
       "      <td>75%</td>\n",
       "      <td>30 - 60 Minute</td>\n",
       "      <td>2.30 - 3 hour</td>\n",
       "      <td>너무 좋음</td>\n",
       "      <td>좋음</td>\n",
       "      <td>No</td>\n",
       "      <td>No</td>\n",
       "    </tr>\n",
       "  </tbody>\n",
       "</table>\n",
       "<p>235 rows × 19 columns</p>\n",
       "</div>"
      ],
      "text/plain": [
       "         성별         전공     신장   몸무게  1학년평균성적  2학년평균성적  3학년평균성적             취미  \\\n",
       "0      Male        BCA  100.0  58.0     79.0     65.0     80.0    Video Games   \n",
       "1    Female        BCA   90.0  40.0     70.0     80.0     70.0         Cinema   \n",
       "2      Male        BCA  159.0  78.0     69.5     61.0     55.0         Cinema   \n",
       "3    Female        BCA  147.0  20.0     70.0     59.0     58.0  Reading books   \n",
       "4      Male        BCA  170.0  54.0     40.0     65.0     30.0    Video Games   \n",
       "..      ...        ...    ...   ...      ...      ...      ...            ...   \n",
       "230    Male  B.com ISM  170.0  76.0     72.0     67.0     65.0    Video Games   \n",
       "231    Male  B.com ISM  172.0  52.0     72.0     70.0     76.0         Cinema   \n",
       "232  Female        BCA  139.0  33.0     90.0     75.0     70.0         Cinema   \n",
       "233  Female   Commerce  153.0  58.0     85.0     74.0     75.0         Cinema   \n",
       "234  Female  B.com ISM  155.0  39.0     45.0     45.0     50.0         Sports   \n",
       "\n",
       "            일평균학습시간   집중공부시간     기대연봉 전공만족여부 전공관련취업선호도      일평균소셜미디어사용시간  \\\n",
       "0     0 - 30 minute  Morning    40000     No       50%     1.30 - 2 hour   \n",
       "1    30 - 60 minute  Morning    15000    Yes       75%     1 - 1.30 hour   \n",
       "2        1 - 2 Hour  Anytime    13000    Yes       50%  More than 2 hour   \n",
       "3        1 - 2 Hour  Anytime  1500000     No       50%     1.30 - 2 hour   \n",
       "4    30 - 60 minute  Morning    50000    Yes       25%     1.30 - 2 hour   \n",
       "..              ...      ...      ...    ...       ...               ...   \n",
       "230  30 - 60 minute  Morning     7000    Yes       50%  More than 2 hour   \n",
       "231      2 - 3 hour  Anytime    25000    Yes       75%    30 - 60 Minute   \n",
       "232  30 - 60 minute    Night    20000    Yes       50%    30 - 60 Minute   \n",
       "233   0 - 30 minute  Anytime    20000    Yes       75%  More than 2 hour   \n",
       "234      3 - 4 hour    Night       10     No       75%    30 - 60 Minute   \n",
       "\n",
       "                통학시간 학업스트레스 교우관계스트레스 아르바이트여부 방과후수업여부  \n",
       "0    30 - 60 minutes     나쁨       나쁨      No      No  \n",
       "1     0 - 30 minutes     나쁨       나쁨      No      No  \n",
       "2    30 - 60 minutes    끔찍함       나쁨      No     Yes  \n",
       "3     0 - 30 minutes     나쁨       좋음      No     Yes  \n",
       "4    30 - 60 minutes     좋음       좋음      No      No  \n",
       "..               ...    ...      ...     ...     ...  \n",
       "230  30 - 60 minutes     나쁨       나쁨      No     Yes  \n",
       "231  30 - 60 minutes     좋음       좋음      No     Yes  \n",
       "232    2.30 - 3 hour     나쁨       좋음      No     Yes  \n",
       "233    2.30 - 3 hour    끔찍함       좋음      No     Yes  \n",
       "234    2.30 - 3 hour  너무 좋음       좋음      No      No  \n",
       "\n",
       "[235 rows x 19 columns]"
      ]
     },
     "execution_count": 3,
     "metadata": {},
     "output_type": "execute_result"
    }
   ],
   "source": [
    "df"
   ]
  },
  {
   "cell_type": "code",
   "execution_count": 4,
   "id": "7e103244",
   "metadata": {},
   "outputs": [],
   "source": [
    "plt.rcParams[\"font.family\"]=\"Malgun Gothic\"\n",
    "plt.rcParams[\"axes.unicode_minus\"] = False\n"
   ]
  },
  {
   "cell_type": "code",
   "execution_count": 5,
   "id": "87a08515",
   "metadata": {},
   "outputs": [],
   "source": [
    "df = df.astype({\"1학년평균성적\":'int', \"2학년평균성적\":'int',\"3학년평균성적\":'int' })  "
   ]
  },
  {
   "cell_type": "code",
   "execution_count": 6,
   "id": "ea858035",
   "metadata": {
    "scrolled": true
   },
   "outputs": [
    {
     "name": "stdout",
     "output_type": "stream",
     "text": [
      "<class 'pandas.core.frame.DataFrame'>\n",
      "RangeIndex: 235 entries, 0 to 234\n",
      "Data columns (total 19 columns):\n",
      " #   Column        Non-Null Count  Dtype  \n",
      "---  ------        --------------  -----  \n",
      " 0   성별            235 non-null    object \n",
      " 1   전공            235 non-null    object \n",
      " 2   신장            235 non-null    float64\n",
      " 3   몸무게           235 non-null    float64\n",
      " 4   1학년평균성적       235 non-null    int32  \n",
      " 5   2학년평균성적       235 non-null    int32  \n",
      " 6   3학년평균성적       235 non-null    int32  \n",
      " 7   취미            235 non-null    object \n",
      " 8   일평균학습시간       235 non-null    object \n",
      " 9   집중공부시간        235 non-null    object \n",
      " 10  기대연봉          235 non-null    int64  \n",
      " 11  전공만족여부        235 non-null    object \n",
      " 12  전공관련취업선호도     235 non-null    object \n",
      " 13  일평균소셜미디어사용시간  235 non-null    object \n",
      " 14  통학시간          235 non-null    object \n",
      " 15  학업스트레스        235 non-null    object \n",
      " 16  교우관계스트레스      235 non-null    object \n",
      " 17  아르바이트여부       235 non-null    object \n",
      " 18  방과후수업여부       235 non-null    object \n",
      "dtypes: float64(2), int32(3), int64(1), object(13)\n",
      "memory usage: 32.3+ KB\n"
     ]
    }
   ],
   "source": [
    "df.info()"
   ]
  },
  {
   "cell_type": "code",
   "execution_count": 7,
   "id": "fe8b88bb",
   "metadata": {
    "scrolled": true
   },
   "outputs": [
    {
     "data": {
      "text/html": [
       "<div>\n",
       "<style scoped>\n",
       "    .dataframe tbody tr th:only-of-type {\n",
       "        vertical-align: middle;\n",
       "    }\n",
       "\n",
       "    .dataframe tbody tr th {\n",
       "        vertical-align: top;\n",
       "    }\n",
       "\n",
       "    .dataframe thead th {\n",
       "        text-align: right;\n",
       "    }\n",
       "</style>\n",
       "<table border=\"1\" class=\"dataframe\">\n",
       "  <thead>\n",
       "    <tr style=\"text-align: right;\">\n",
       "      <th></th>\n",
       "      <th>성별</th>\n",
       "      <th>전공</th>\n",
       "      <th>신장</th>\n",
       "      <th>몸무게</th>\n",
       "      <th>1학년평균성적</th>\n",
       "      <th>2학년평균성적</th>\n",
       "      <th>3학년평균성적</th>\n",
       "      <th>취미</th>\n",
       "      <th>일평균학습시간</th>\n",
       "      <th>집중공부시간</th>\n",
       "      <th>기대연봉</th>\n",
       "      <th>전공만족여부</th>\n",
       "      <th>전공관련취업선호도</th>\n",
       "      <th>일평균소셜미디어사용시간</th>\n",
       "      <th>통학시간</th>\n",
       "      <th>학업스트레스</th>\n",
       "      <th>교우관계스트레스</th>\n",
       "      <th>아르바이트여부</th>\n",
       "      <th>방과후수업여부</th>\n",
       "    </tr>\n",
       "  </thead>\n",
       "  <tbody>\n",
       "    <tr>\n",
       "      <th>0</th>\n",
       "      <td>Male</td>\n",
       "      <td>BCA</td>\n",
       "      <td>100.0</td>\n",
       "      <td>58.0</td>\n",
       "      <td>79</td>\n",
       "      <td>65</td>\n",
       "      <td>80</td>\n",
       "      <td>Video Games</td>\n",
       "      <td>0 - 30 minute</td>\n",
       "      <td>Morning</td>\n",
       "      <td>40000</td>\n",
       "      <td>No</td>\n",
       "      <td>50%</td>\n",
       "      <td>1.30 - 2 hour</td>\n",
       "      <td>30 - 60 minutes</td>\n",
       "      <td>나쁨</td>\n",
       "      <td>나쁨</td>\n",
       "      <td>No</td>\n",
       "      <td>No</td>\n",
       "    </tr>\n",
       "    <tr>\n",
       "      <th>1</th>\n",
       "      <td>Female</td>\n",
       "      <td>BCA</td>\n",
       "      <td>90.0</td>\n",
       "      <td>40.0</td>\n",
       "      <td>70</td>\n",
       "      <td>80</td>\n",
       "      <td>70</td>\n",
       "      <td>Cinema</td>\n",
       "      <td>30 - 60 minute</td>\n",
       "      <td>Morning</td>\n",
       "      <td>15000</td>\n",
       "      <td>Yes</td>\n",
       "      <td>75%</td>\n",
       "      <td>1 - 1.30 hour</td>\n",
       "      <td>0 - 30 minutes</td>\n",
       "      <td>나쁨</td>\n",
       "      <td>나쁨</td>\n",
       "      <td>No</td>\n",
       "      <td>No</td>\n",
       "    </tr>\n",
       "    <tr>\n",
       "      <th>2</th>\n",
       "      <td>Male</td>\n",
       "      <td>BCA</td>\n",
       "      <td>159.0</td>\n",
       "      <td>78.0</td>\n",
       "      <td>69</td>\n",
       "      <td>61</td>\n",
       "      <td>55</td>\n",
       "      <td>Cinema</td>\n",
       "      <td>1 - 2 Hour</td>\n",
       "      <td>Anytime</td>\n",
       "      <td>13000</td>\n",
       "      <td>Yes</td>\n",
       "      <td>50%</td>\n",
       "      <td>More than 2 hour</td>\n",
       "      <td>30 - 60 minutes</td>\n",
       "      <td>끔찍함</td>\n",
       "      <td>나쁨</td>\n",
       "      <td>No</td>\n",
       "      <td>Yes</td>\n",
       "    </tr>\n",
       "    <tr>\n",
       "      <th>3</th>\n",
       "      <td>Female</td>\n",
       "      <td>BCA</td>\n",
       "      <td>147.0</td>\n",
       "      <td>20.0</td>\n",
       "      <td>70</td>\n",
       "      <td>59</td>\n",
       "      <td>58</td>\n",
       "      <td>Reading books</td>\n",
       "      <td>1 - 2 Hour</td>\n",
       "      <td>Anytime</td>\n",
       "      <td>1500000</td>\n",
       "      <td>No</td>\n",
       "      <td>50%</td>\n",
       "      <td>1.30 - 2 hour</td>\n",
       "      <td>0 - 30 minutes</td>\n",
       "      <td>나쁨</td>\n",
       "      <td>좋음</td>\n",
       "      <td>No</td>\n",
       "      <td>Yes</td>\n",
       "    </tr>\n",
       "    <tr>\n",
       "      <th>4</th>\n",
       "      <td>Male</td>\n",
       "      <td>BCA</td>\n",
       "      <td>170.0</td>\n",
       "      <td>54.0</td>\n",
       "      <td>40</td>\n",
       "      <td>65</td>\n",
       "      <td>30</td>\n",
       "      <td>Video Games</td>\n",
       "      <td>30 - 60 minute</td>\n",
       "      <td>Morning</td>\n",
       "      <td>50000</td>\n",
       "      <td>Yes</td>\n",
       "      <td>25%</td>\n",
       "      <td>1.30 - 2 hour</td>\n",
       "      <td>30 - 60 minutes</td>\n",
       "      <td>좋음</td>\n",
       "      <td>좋음</td>\n",
       "      <td>No</td>\n",
       "      <td>No</td>\n",
       "    </tr>\n",
       "    <tr>\n",
       "      <th>...</th>\n",
       "      <td>...</td>\n",
       "      <td>...</td>\n",
       "      <td>...</td>\n",
       "      <td>...</td>\n",
       "      <td>...</td>\n",
       "      <td>...</td>\n",
       "      <td>...</td>\n",
       "      <td>...</td>\n",
       "      <td>...</td>\n",
       "      <td>...</td>\n",
       "      <td>...</td>\n",
       "      <td>...</td>\n",
       "      <td>...</td>\n",
       "      <td>...</td>\n",
       "      <td>...</td>\n",
       "      <td>...</td>\n",
       "      <td>...</td>\n",
       "      <td>...</td>\n",
       "      <td>...</td>\n",
       "    </tr>\n",
       "    <tr>\n",
       "      <th>230</th>\n",
       "      <td>Male</td>\n",
       "      <td>B.com ISM</td>\n",
       "      <td>170.0</td>\n",
       "      <td>76.0</td>\n",
       "      <td>72</td>\n",
       "      <td>67</td>\n",
       "      <td>65</td>\n",
       "      <td>Video Games</td>\n",
       "      <td>30 - 60 minute</td>\n",
       "      <td>Morning</td>\n",
       "      <td>7000</td>\n",
       "      <td>Yes</td>\n",
       "      <td>50%</td>\n",
       "      <td>More than 2 hour</td>\n",
       "      <td>30 - 60 minutes</td>\n",
       "      <td>나쁨</td>\n",
       "      <td>나쁨</td>\n",
       "      <td>No</td>\n",
       "      <td>Yes</td>\n",
       "    </tr>\n",
       "    <tr>\n",
       "      <th>231</th>\n",
       "      <td>Male</td>\n",
       "      <td>B.com ISM</td>\n",
       "      <td>172.0</td>\n",
       "      <td>52.0</td>\n",
       "      <td>72</td>\n",
       "      <td>70</td>\n",
       "      <td>76</td>\n",
       "      <td>Cinema</td>\n",
       "      <td>2 - 3 hour</td>\n",
       "      <td>Anytime</td>\n",
       "      <td>25000</td>\n",
       "      <td>Yes</td>\n",
       "      <td>75%</td>\n",
       "      <td>30 - 60 Minute</td>\n",
       "      <td>30 - 60 minutes</td>\n",
       "      <td>좋음</td>\n",
       "      <td>좋음</td>\n",
       "      <td>No</td>\n",
       "      <td>Yes</td>\n",
       "    </tr>\n",
       "    <tr>\n",
       "      <th>232</th>\n",
       "      <td>Female</td>\n",
       "      <td>BCA</td>\n",
       "      <td>139.0</td>\n",
       "      <td>33.0</td>\n",
       "      <td>90</td>\n",
       "      <td>75</td>\n",
       "      <td>70</td>\n",
       "      <td>Cinema</td>\n",
       "      <td>30 - 60 minute</td>\n",
       "      <td>Night</td>\n",
       "      <td>20000</td>\n",
       "      <td>Yes</td>\n",
       "      <td>50%</td>\n",
       "      <td>30 - 60 Minute</td>\n",
       "      <td>2.30 - 3 hour</td>\n",
       "      <td>나쁨</td>\n",
       "      <td>좋음</td>\n",
       "      <td>No</td>\n",
       "      <td>Yes</td>\n",
       "    </tr>\n",
       "    <tr>\n",
       "      <th>233</th>\n",
       "      <td>Female</td>\n",
       "      <td>Commerce</td>\n",
       "      <td>153.0</td>\n",
       "      <td>58.0</td>\n",
       "      <td>85</td>\n",
       "      <td>74</td>\n",
       "      <td>75</td>\n",
       "      <td>Cinema</td>\n",
       "      <td>0 - 30 minute</td>\n",
       "      <td>Anytime</td>\n",
       "      <td>20000</td>\n",
       "      <td>Yes</td>\n",
       "      <td>75%</td>\n",
       "      <td>More than 2 hour</td>\n",
       "      <td>2.30 - 3 hour</td>\n",
       "      <td>끔찍함</td>\n",
       "      <td>좋음</td>\n",
       "      <td>No</td>\n",
       "      <td>Yes</td>\n",
       "    </tr>\n",
       "    <tr>\n",
       "      <th>234</th>\n",
       "      <td>Female</td>\n",
       "      <td>B.com ISM</td>\n",
       "      <td>155.0</td>\n",
       "      <td>39.0</td>\n",
       "      <td>45</td>\n",
       "      <td>45</td>\n",
       "      <td>50</td>\n",
       "      <td>Sports</td>\n",
       "      <td>3 - 4 hour</td>\n",
       "      <td>Night</td>\n",
       "      <td>10</td>\n",
       "      <td>No</td>\n",
       "      <td>75%</td>\n",
       "      <td>30 - 60 Minute</td>\n",
       "      <td>2.30 - 3 hour</td>\n",
       "      <td>너무 좋음</td>\n",
       "      <td>좋음</td>\n",
       "      <td>No</td>\n",
       "      <td>No</td>\n",
       "    </tr>\n",
       "  </tbody>\n",
       "</table>\n",
       "<p>235 rows × 19 columns</p>\n",
       "</div>"
      ],
      "text/plain": [
       "         성별         전공     신장   몸무게  1학년평균성적  2학년평균성적  3학년평균성적             취미  \\\n",
       "0      Male        BCA  100.0  58.0       79       65       80    Video Games   \n",
       "1    Female        BCA   90.0  40.0       70       80       70         Cinema   \n",
       "2      Male        BCA  159.0  78.0       69       61       55         Cinema   \n",
       "3    Female        BCA  147.0  20.0       70       59       58  Reading books   \n",
       "4      Male        BCA  170.0  54.0       40       65       30    Video Games   \n",
       "..      ...        ...    ...   ...      ...      ...      ...            ...   \n",
       "230    Male  B.com ISM  170.0  76.0       72       67       65    Video Games   \n",
       "231    Male  B.com ISM  172.0  52.0       72       70       76         Cinema   \n",
       "232  Female        BCA  139.0  33.0       90       75       70         Cinema   \n",
       "233  Female   Commerce  153.0  58.0       85       74       75         Cinema   \n",
       "234  Female  B.com ISM  155.0  39.0       45       45       50         Sports   \n",
       "\n",
       "            일평균학습시간   집중공부시간     기대연봉 전공만족여부 전공관련취업선호도      일평균소셜미디어사용시간  \\\n",
       "0     0 - 30 minute  Morning    40000     No       50%     1.30 - 2 hour   \n",
       "1    30 - 60 minute  Morning    15000    Yes       75%     1 - 1.30 hour   \n",
       "2        1 - 2 Hour  Anytime    13000    Yes       50%  More than 2 hour   \n",
       "3        1 - 2 Hour  Anytime  1500000     No       50%     1.30 - 2 hour   \n",
       "4    30 - 60 minute  Morning    50000    Yes       25%     1.30 - 2 hour   \n",
       "..              ...      ...      ...    ...       ...               ...   \n",
       "230  30 - 60 minute  Morning     7000    Yes       50%  More than 2 hour   \n",
       "231      2 - 3 hour  Anytime    25000    Yes       75%    30 - 60 Minute   \n",
       "232  30 - 60 minute    Night    20000    Yes       50%    30 - 60 Minute   \n",
       "233   0 - 30 minute  Anytime    20000    Yes       75%  More than 2 hour   \n",
       "234      3 - 4 hour    Night       10     No       75%    30 - 60 Minute   \n",
       "\n",
       "                통학시간 학업스트레스 교우관계스트레스 아르바이트여부 방과후수업여부  \n",
       "0    30 - 60 minutes     나쁨       나쁨      No      No  \n",
       "1     0 - 30 minutes     나쁨       나쁨      No      No  \n",
       "2    30 - 60 minutes    끔찍함       나쁨      No     Yes  \n",
       "3     0 - 30 minutes     나쁨       좋음      No     Yes  \n",
       "4    30 - 60 minutes     좋음       좋음      No      No  \n",
       "..               ...    ...      ...     ...     ...  \n",
       "230  30 - 60 minutes     나쁨       나쁨      No     Yes  \n",
       "231  30 - 60 minutes     좋음       좋음      No     Yes  \n",
       "232    2.30 - 3 hour     나쁨       좋음      No     Yes  \n",
       "233    2.30 - 3 hour    끔찍함       좋음      No     Yes  \n",
       "234    2.30 - 3 hour  너무 좋음       좋음      No      No  \n",
       "\n",
       "[235 rows x 19 columns]"
      ]
     },
     "execution_count": 7,
     "metadata": {},
     "output_type": "execute_result"
    }
   ],
   "source": [
    "df"
   ]
  },
  {
   "cell_type": "code",
   "execution_count": 8,
   "id": "e9828b10",
   "metadata": {},
   "outputs": [],
   "source": [
    "male=df[df[\"성별\"]==\"Male\"].sample(n=79)"
   ]
  },
  {
   "cell_type": "code",
   "execution_count": 9,
   "id": "938295c5",
   "metadata": {
    "scrolled": true
   },
   "outputs": [],
   "source": [
    "female=df[df[\"성별\"]==\"Female\"]"
   ]
  },
  {
   "cell_type": "code",
   "execution_count": 10,
   "id": "2a9dbca9",
   "metadata": {
    "scrolled": false
   },
   "outputs": [
    {
     "data": {
      "text/html": [
       "<div>\n",
       "<style scoped>\n",
       "    .dataframe tbody tr th:only-of-type {\n",
       "        vertical-align: middle;\n",
       "    }\n",
       "\n",
       "    .dataframe tbody tr th {\n",
       "        vertical-align: top;\n",
       "    }\n",
       "\n",
       "    .dataframe thead th {\n",
       "        text-align: right;\n",
       "    }\n",
       "</style>\n",
       "<table border=\"1\" class=\"dataframe\">\n",
       "  <thead>\n",
       "    <tr style=\"text-align: right;\">\n",
       "      <th></th>\n",
       "      <th>성별</th>\n",
       "      <th>전공</th>\n",
       "      <th>신장</th>\n",
       "      <th>몸무게</th>\n",
       "      <th>1학년평균성적</th>\n",
       "      <th>2학년평균성적</th>\n",
       "      <th>3학년평균성적</th>\n",
       "      <th>취미</th>\n",
       "      <th>일평균학습시간</th>\n",
       "      <th>집중공부시간</th>\n",
       "      <th>기대연봉</th>\n",
       "      <th>전공만족여부</th>\n",
       "      <th>전공관련취업선호도</th>\n",
       "      <th>일평균소셜미디어사용시간</th>\n",
       "      <th>통학시간</th>\n",
       "      <th>학업스트레스</th>\n",
       "      <th>교우관계스트레스</th>\n",
       "      <th>아르바이트여부</th>\n",
       "      <th>방과후수업여부</th>\n",
       "    </tr>\n",
       "  </thead>\n",
       "  <tbody>\n",
       "    <tr>\n",
       "      <th>201</th>\n",
       "      <td>Male</td>\n",
       "      <td>B.com ISM</td>\n",
       "      <td>120.0</td>\n",
       "      <td>74.0</td>\n",
       "      <td>80</td>\n",
       "      <td>70</td>\n",
       "      <td>70</td>\n",
       "      <td>Cinema</td>\n",
       "      <td>1 - 2 Hour</td>\n",
       "      <td>Anytime</td>\n",
       "      <td>15000</td>\n",
       "      <td>Yes</td>\n",
       "      <td>75%</td>\n",
       "      <td>More than 2 hour</td>\n",
       "      <td>30 - 60 minutes</td>\n",
       "      <td>나쁨</td>\n",
       "      <td>나쁨</td>\n",
       "      <td>Yes</td>\n",
       "      <td>Yes</td>\n",
       "    </tr>\n",
       "    <tr>\n",
       "      <th>197</th>\n",
       "      <td>Male</td>\n",
       "      <td>B.com ISM</td>\n",
       "      <td>153.0</td>\n",
       "      <td>45.0</td>\n",
       "      <td>67</td>\n",
       "      <td>54</td>\n",
       "      <td>86</td>\n",
       "      <td>Cinema</td>\n",
       "      <td>30 - 60 minute</td>\n",
       "      <td>Morning</td>\n",
       "      <td>30000</td>\n",
       "      <td>Yes</td>\n",
       "      <td>100%</td>\n",
       "      <td>1 - 30 Minute</td>\n",
       "      <td>30 - 60 minutes</td>\n",
       "      <td>좋음</td>\n",
       "      <td>좋음</td>\n",
       "      <td>No</td>\n",
       "      <td>Yes</td>\n",
       "    </tr>\n",
       "    <tr>\n",
       "      <th>164</th>\n",
       "      <td>Male</td>\n",
       "      <td>Commerce</td>\n",
       "      <td>192.0</td>\n",
       "      <td>85.0</td>\n",
       "      <td>84</td>\n",
       "      <td>85</td>\n",
       "      <td>80</td>\n",
       "      <td>Cinema</td>\n",
       "      <td>30 - 60 minute</td>\n",
       "      <td>Anytime</td>\n",
       "      <td>25000</td>\n",
       "      <td>Yes</td>\n",
       "      <td>100%</td>\n",
       "      <td>30 - 60 Minute</td>\n",
       "      <td>more than 3 hour</td>\n",
       "      <td>좋음</td>\n",
       "      <td>나쁨</td>\n",
       "      <td>No</td>\n",
       "      <td>No</td>\n",
       "    </tr>\n",
       "    <tr>\n",
       "      <th>95</th>\n",
       "      <td>Male</td>\n",
       "      <td>BCA</td>\n",
       "      <td>180.0</td>\n",
       "      <td>80.0</td>\n",
       "      <td>91</td>\n",
       "      <td>73</td>\n",
       "      <td>85</td>\n",
       "      <td>Sports</td>\n",
       "      <td>30 - 60 minute</td>\n",
       "      <td>Morning</td>\n",
       "      <td>25000</td>\n",
       "      <td>Yes</td>\n",
       "      <td>100%</td>\n",
       "      <td>30 - 60 Minute</td>\n",
       "      <td>0 - 30 minutes</td>\n",
       "      <td>좋음</td>\n",
       "      <td>좋음</td>\n",
       "      <td>No</td>\n",
       "      <td>Yes</td>\n",
       "    </tr>\n",
       "    <tr>\n",
       "      <th>24</th>\n",
       "      <td>Male</td>\n",
       "      <td>BCA</td>\n",
       "      <td>167.0</td>\n",
       "      <td>85.0</td>\n",
       "      <td>75</td>\n",
       "      <td>60</td>\n",
       "      <td>80</td>\n",
       "      <td>Cinema</td>\n",
       "      <td>0 - 30 minute</td>\n",
       "      <td>Anytime</td>\n",
       "      <td>20000</td>\n",
       "      <td>Yes</td>\n",
       "      <td>50%</td>\n",
       "      <td>1.30 - 2 hour</td>\n",
       "      <td>2 - 2.30 hour</td>\n",
       "      <td>끔찍함</td>\n",
       "      <td>좋음</td>\n",
       "      <td>No</td>\n",
       "      <td>No</td>\n",
       "    </tr>\n",
       "    <tr>\n",
       "      <th>...</th>\n",
       "      <td>...</td>\n",
       "      <td>...</td>\n",
       "      <td>...</td>\n",
       "      <td>...</td>\n",
       "      <td>...</td>\n",
       "      <td>...</td>\n",
       "      <td>...</td>\n",
       "      <td>...</td>\n",
       "      <td>...</td>\n",
       "      <td>...</td>\n",
       "      <td>...</td>\n",
       "      <td>...</td>\n",
       "      <td>...</td>\n",
       "      <td>...</td>\n",
       "      <td>...</td>\n",
       "      <td>...</td>\n",
       "      <td>...</td>\n",
       "      <td>...</td>\n",
       "      <td>...</td>\n",
       "    </tr>\n",
       "    <tr>\n",
       "      <th>53</th>\n",
       "      <td>Female</td>\n",
       "      <td>Commerce</td>\n",
       "      <td>159.0</td>\n",
       "      <td>67.0</td>\n",
       "      <td>98</td>\n",
       "      <td>80</td>\n",
       "      <td>85</td>\n",
       "      <td>Reading books</td>\n",
       "      <td>1 - 2 Hour</td>\n",
       "      <td>Anytime</td>\n",
       "      <td>15000</td>\n",
       "      <td>Yes</td>\n",
       "      <td>100%</td>\n",
       "      <td>1.30 - 2 hour</td>\n",
       "      <td>more than 3 hour</td>\n",
       "      <td>좋음</td>\n",
       "      <td>나쁨</td>\n",
       "      <td>No</td>\n",
       "      <td>Yes</td>\n",
       "    </tr>\n",
       "    <tr>\n",
       "      <th>54</th>\n",
       "      <td>Female</td>\n",
       "      <td>Commerce</td>\n",
       "      <td>180.0</td>\n",
       "      <td>43.0</td>\n",
       "      <td>86</td>\n",
       "      <td>78</td>\n",
       "      <td>85</td>\n",
       "      <td>Reading books</td>\n",
       "      <td>1 - 2 Hour</td>\n",
       "      <td>Anytime</td>\n",
       "      <td>10000</td>\n",
       "      <td>Yes</td>\n",
       "      <td>75%</td>\n",
       "      <td>1.30 - 2 hour</td>\n",
       "      <td>30 - 60 minutes</td>\n",
       "      <td>나쁨</td>\n",
       "      <td>좋음</td>\n",
       "      <td>No</td>\n",
       "      <td>Yes</td>\n",
       "    </tr>\n",
       "    <tr>\n",
       "      <th>56</th>\n",
       "      <td>Female</td>\n",
       "      <td>Commerce</td>\n",
       "      <td>156.0</td>\n",
       "      <td>52.0</td>\n",
       "      <td>82</td>\n",
       "      <td>70</td>\n",
       "      <td>80</td>\n",
       "      <td>Reading books</td>\n",
       "      <td>2 - 3 hour</td>\n",
       "      <td>Morning</td>\n",
       "      <td>15000</td>\n",
       "      <td>Yes</td>\n",
       "      <td>100%</td>\n",
       "      <td>1 - 30 Minute</td>\n",
       "      <td>0 - 30 minutes</td>\n",
       "      <td>너무 좋음</td>\n",
       "      <td>나쁨</td>\n",
       "      <td>Yes</td>\n",
       "      <td>Yes</td>\n",
       "    </tr>\n",
       "    <tr>\n",
       "      <th>57</th>\n",
       "      <td>Female</td>\n",
       "      <td>Commerce</td>\n",
       "      <td>167.0</td>\n",
       "      <td>62.0</td>\n",
       "      <td>80</td>\n",
       "      <td>60</td>\n",
       "      <td>60</td>\n",
       "      <td>Sports</td>\n",
       "      <td>1 - 2 Hour</td>\n",
       "      <td>Morning</td>\n",
       "      <td>18000</td>\n",
       "      <td>Yes</td>\n",
       "      <td>75%</td>\n",
       "      <td>1 - 1.30 hour</td>\n",
       "      <td>1 - 1.30 hour</td>\n",
       "      <td>좋음</td>\n",
       "      <td>좋음</td>\n",
       "      <td>No</td>\n",
       "      <td>Yes</td>\n",
       "    </tr>\n",
       "    <tr>\n",
       "      <th>58</th>\n",
       "      <td>Female</td>\n",
       "      <td>Commerce</td>\n",
       "      <td>152.0</td>\n",
       "      <td>60.0</td>\n",
       "      <td>93</td>\n",
       "      <td>85</td>\n",
       "      <td>93</td>\n",
       "      <td>Sports</td>\n",
       "      <td>1 - 2 Hour</td>\n",
       "      <td>Anytime</td>\n",
       "      <td>20000</td>\n",
       "      <td>Yes</td>\n",
       "      <td>100%</td>\n",
       "      <td>1 - 30 Minute</td>\n",
       "      <td>0 - 30 minutes</td>\n",
       "      <td>좋음</td>\n",
       "      <td>좋음</td>\n",
       "      <td>No</td>\n",
       "      <td>Yes</td>\n",
       "    </tr>\n",
       "  </tbody>\n",
       "</table>\n",
       "<p>100 rows × 19 columns</p>\n",
       "</div>"
      ],
      "text/plain": [
       "         성별         전공     신장   몸무게  1학년평균성적  2학년평균성적  3학년평균성적             취미  \\\n",
       "201    Male  B.com ISM  120.0  74.0       80       70       70         Cinema   \n",
       "197    Male  B.com ISM  153.0  45.0       67       54       86         Cinema   \n",
       "164    Male   Commerce  192.0  85.0       84       85       80         Cinema   \n",
       "95     Male        BCA  180.0  80.0       91       73       85         Sports   \n",
       "24     Male        BCA  167.0  85.0       75       60       80         Cinema   \n",
       "..      ...        ...    ...   ...      ...      ...      ...            ...   \n",
       "53   Female   Commerce  159.0  67.0       98       80       85  Reading books   \n",
       "54   Female   Commerce  180.0  43.0       86       78       85  Reading books   \n",
       "56   Female   Commerce  156.0  52.0       82       70       80  Reading books   \n",
       "57   Female   Commerce  167.0  62.0       80       60       60         Sports   \n",
       "58   Female   Commerce  152.0  60.0       93       85       93         Sports   \n",
       "\n",
       "            일평균학습시간   집중공부시간   기대연봉 전공만족여부 전공관련취업선호도      일평균소셜미디어사용시간  \\\n",
       "201      1 - 2 Hour  Anytime  15000    Yes       75%  More than 2 hour   \n",
       "197  30 - 60 minute  Morning  30000    Yes      100%     1 - 30 Minute   \n",
       "164  30 - 60 minute  Anytime  25000    Yes      100%    30 - 60 Minute   \n",
       "95   30 - 60 minute  Morning  25000    Yes      100%    30 - 60 Minute   \n",
       "24    0 - 30 minute  Anytime  20000    Yes       50%     1.30 - 2 hour   \n",
       "..              ...      ...    ...    ...       ...               ...   \n",
       "53       1 - 2 Hour  Anytime  15000    Yes      100%     1.30 - 2 hour   \n",
       "54       1 - 2 Hour  Anytime  10000    Yes       75%     1.30 - 2 hour   \n",
       "56       2 - 3 hour  Morning  15000    Yes      100%     1 - 30 Minute   \n",
       "57       1 - 2 Hour  Morning  18000    Yes       75%     1 - 1.30 hour   \n",
       "58       1 - 2 Hour  Anytime  20000    Yes      100%     1 - 30 Minute   \n",
       "\n",
       "                 통학시간 학업스트레스 교우관계스트레스 아르바이트여부 방과후수업여부  \n",
       "201   30 - 60 minutes     나쁨       나쁨     Yes     Yes  \n",
       "197   30 - 60 minutes     좋음       좋음      No     Yes  \n",
       "164  more than 3 hour     좋음       나쁨      No      No  \n",
       "95     0 - 30 minutes     좋음       좋음      No     Yes  \n",
       "24      2 - 2.30 hour    끔찍함       좋음      No      No  \n",
       "..                ...    ...      ...     ...     ...  \n",
       "53   more than 3 hour     좋음       나쁨      No     Yes  \n",
       "54    30 - 60 minutes     나쁨       좋음      No     Yes  \n",
       "56     0 - 30 minutes  너무 좋음       나쁨     Yes     Yes  \n",
       "57      1 - 1.30 hour     좋음       좋음      No     Yes  \n",
       "58     0 - 30 minutes     좋음       좋음      No     Yes  \n",
       "\n",
       "[100 rows x 19 columns]"
      ]
     },
     "execution_count": 10,
     "metadata": {},
     "output_type": "execute_result"
    }
   ],
   "source": [
    "new_df=pd.concat([male,female])\n",
    "new_df.head(100)"
   ]
  },
  {
   "cell_type": "code",
   "execution_count": 11,
   "id": "b1b5d5c4",
   "metadata": {},
   "outputs": [],
   "source": [
    "new_df=pd.melt(new_df,id_vars=[\"성별\"],value_vars=['1학년평균성적','2학년평균성적',\"3학년평균성적\"])"
   ]
  },
  {
   "cell_type": "code",
   "execution_count": 12,
   "id": "ac3b222c",
   "metadata": {},
   "outputs": [
    {
     "data": {
      "text/html": [
       "<div>\n",
       "<style scoped>\n",
       "    .dataframe tbody tr th:only-of-type {\n",
       "        vertical-align: middle;\n",
       "    }\n",
       "\n",
       "    .dataframe tbody tr th {\n",
       "        vertical-align: top;\n",
       "    }\n",
       "\n",
       "    .dataframe thead th {\n",
       "        text-align: right;\n",
       "    }\n",
       "</style>\n",
       "<table border=\"1\" class=\"dataframe\">\n",
       "  <thead>\n",
       "    <tr style=\"text-align: right;\">\n",
       "      <th></th>\n",
       "      <th>성별</th>\n",
       "      <th>variable</th>\n",
       "      <th>value</th>\n",
       "    </tr>\n",
       "  </thead>\n",
       "  <tbody>\n",
       "    <tr>\n",
       "      <th>0</th>\n",
       "      <td>Male</td>\n",
       "      <td>1학년평균성적</td>\n",
       "      <td>80</td>\n",
       "    </tr>\n",
       "    <tr>\n",
       "      <th>1</th>\n",
       "      <td>Male</td>\n",
       "      <td>1학년평균성적</td>\n",
       "      <td>67</td>\n",
       "    </tr>\n",
       "    <tr>\n",
       "      <th>2</th>\n",
       "      <td>Male</td>\n",
       "      <td>1학년평균성적</td>\n",
       "      <td>84</td>\n",
       "    </tr>\n",
       "    <tr>\n",
       "      <th>3</th>\n",
       "      <td>Male</td>\n",
       "      <td>1학년평균성적</td>\n",
       "      <td>91</td>\n",
       "    </tr>\n",
       "    <tr>\n",
       "      <th>4</th>\n",
       "      <td>Male</td>\n",
       "      <td>1학년평균성적</td>\n",
       "      <td>75</td>\n",
       "    </tr>\n",
       "    <tr>\n",
       "      <th>...</th>\n",
       "      <td>...</td>\n",
       "      <td>...</td>\n",
       "      <td>...</td>\n",
       "    </tr>\n",
       "    <tr>\n",
       "      <th>469</th>\n",
       "      <td>Female</td>\n",
       "      <td>3학년평균성적</td>\n",
       "      <td>90</td>\n",
       "    </tr>\n",
       "    <tr>\n",
       "      <th>470</th>\n",
       "      <td>Female</td>\n",
       "      <td>3학년평균성적</td>\n",
       "      <td>70</td>\n",
       "    </tr>\n",
       "    <tr>\n",
       "      <th>471</th>\n",
       "      <td>Female</td>\n",
       "      <td>3학년평균성적</td>\n",
       "      <td>70</td>\n",
       "    </tr>\n",
       "    <tr>\n",
       "      <th>472</th>\n",
       "      <td>Female</td>\n",
       "      <td>3학년평균성적</td>\n",
       "      <td>75</td>\n",
       "    </tr>\n",
       "    <tr>\n",
       "      <th>473</th>\n",
       "      <td>Female</td>\n",
       "      <td>3학년평균성적</td>\n",
       "      <td>50</td>\n",
       "    </tr>\n",
       "  </tbody>\n",
       "</table>\n",
       "<p>474 rows × 3 columns</p>\n",
       "</div>"
      ],
      "text/plain": [
       "         성별 variable  value\n",
       "0      Male  1학년평균성적     80\n",
       "1      Male  1학년평균성적     67\n",
       "2      Male  1학년평균성적     84\n",
       "3      Male  1학년평균성적     91\n",
       "4      Male  1학년평균성적     75\n",
       "..      ...      ...    ...\n",
       "469  Female  3학년평균성적     90\n",
       "470  Female  3학년평균성적     70\n",
       "471  Female  3학년평균성적     70\n",
       "472  Female  3학년평균성적     75\n",
       "473  Female  3학년평균성적     50\n",
       "\n",
       "[474 rows x 3 columns]"
      ]
     },
     "execution_count": 12,
     "metadata": {},
     "output_type": "execute_result"
    }
   ],
   "source": [
    "new_df"
   ]
  },
  {
   "cell_type": "code",
   "execution_count": 13,
   "id": "fe8c6d03",
   "metadata": {
    "scrolled": true
   },
   "outputs": [
    {
     "data": {
      "text/plain": [
       "(0.0, 100.0)"
      ]
     },
     "execution_count": 13,
     "metadata": {},
     "output_type": "execute_result"
    },
    {
     "data": {
      "image/png": "[encoded data removed]",
      "text/plain": [
       "<Figure size 640x480 with 1 Axes>"
      ]
     },
     "metadata": {},
     "output_type": "display_data"
    }
   ],
   "source": [
    "plt.rcParams[\"font.family\"]=\"Malgun Gothic\"\n",
    "plt.rcParams[\"axes.unicode_minus\"] = False\n",
    "sns.barplot(data=new_df,x=\"variable\",y=\"value\",hue=\"성별\")\n",
    "plt.xlabel(\"학년\")\n",
    "plt.ylabel(\"성적\")\n",
    "plt.ylim(0,100)"
   ]
  },
  {
   "cell_type": "code",
   "execution_count": 14,
   "id": "0fe32cc6",
   "metadata": {
    "scrolled": true
   },
   "outputs": [
    {
     "data": {
      "image/png": "[encoded data removed]",
      "text/plain": [
       "<Figure size 800x600 with 1 Axes>"
      ]
     },
     "metadata": {},
     "output_type": "display_data"
    }
   ],
   "source": [
    "plt.figure(figsize=(8, 6))\n",
    "sns.boxplot(data=new_df,x=\"variable\",y=\"value\",hue=\"성별\",dodge = True)\n",
    "plt.xlabel('학년')\n",
    "plt.legend()\n",
    "plt.ylabel('성적')\n",
    "plt.show()\n"
   ]
  },
  {
   "cell_type": "code",
   "execution_count": 19,
   "id": "8ab3aaac",
   "metadata": {},
   "outputs": [
    {
     "data": {
      "text/plain": [
       "(array([0, 1, 2, 3, 4, 5]),\n",
       " [Text(0, 0, '1.30 - 2 hour'),\n",
       "  Text(1, 0, '1 - 1.30 hour'),\n",
       "  Text(2, 0, 'More than 2 hour'),\n",
       "  Text(3, 0, '30 - 60 Minute'),\n",
       "  Text(4, 0, '1 - 30 Minute'),\n",
       "  Text(5, 0, '0 Minute')])"
      ]
     },
     "execution_count": 19,
     "metadata": {},
     "output_type": "execute_result"
    },
    {
     "data": {
      "image/png": "[encoded data removed]",
      "text/plain": [
       "<Figure size 640x480 with 1 Axes>"
      ]
     },
     "metadata": {},
     "output_type": "display_data"
    }
   ],
   "source": [
    "sns.countplot(data=df,x=\"일평균소셜미디어사용시간\",hue=\"성별\")\n",
    "plt.xticks(rotation=45, fontsize=10)\n",
    "\n"
   ]
  },
  {
   "cell_type": "code",
   "execution_count": null,
   "id": "d98e4843",
   "metadata": {
    "scrolled": true
   },
   "outputs": [],
   "source": []
  },
  {
   "cell_type": "code",
   "execution_count": 16,
   "id": "5a36b30a",
   "metadata": {},
   "outputs": [],
   "source": [
    "jadf = pd.concat([female,male])"
   ]
  },
  {
   "cell_type": "code",
   "execution_count": 17,
   "id": "b2df8e41",
   "metadata": {},
   "outputs": [
    {
     "ename": "TypeError",
     "evalue": "You have to supply one of 'by' and 'level'",
     "output_type": "error",
     "traceback": [
      "\u001b[1;31m---------------------------------------------------------------------------\u001b[0m",
      "\u001b[1;31mTypeError\u001b[0m                                 Traceback (most recent call last)",
      "Cell \u001b[1;32mIn[17], line 1\u001b[0m\n\u001b[1;32m----> 1\u001b[0m \u001b[43mjadf\u001b[49m\u001b[38;5;241;43m.\u001b[39;49m\u001b[43mgroupby\u001b[49m\u001b[43m(\u001b[49m\u001b[43m)\u001b[49m[\u001b[38;5;124m'\u001b[39m\u001b[38;5;124m일평균학습시간\u001b[39m\u001b[38;5;124m'\u001b[39m]\u001b[38;5;241m.\u001b[39mvalue_counts()\u001b[38;5;241m.\u001b[39msort_index()\n",
      "File \u001b[1;32m~\\AppData\\Roaming\\Python\\Python39\\site-packages\\pandas\\core\\frame.py:8396\u001b[0m, in \u001b[0;36mDataFrame.groupby\u001b[1;34m(self, by, axis, level, as_index, sort, group_keys, squeeze, observed, dropna)\u001b[0m\n\u001b[0;32m   8393\u001b[0m     squeeze \u001b[38;5;241m=\u001b[39m \u001b[38;5;28;01mFalse\u001b[39;00m\n\u001b[0;32m   8395\u001b[0m \u001b[38;5;28;01mif\u001b[39;00m level \u001b[38;5;129;01mis\u001b[39;00m \u001b[38;5;28;01mNone\u001b[39;00m \u001b[38;5;129;01mand\u001b[39;00m by \u001b[38;5;129;01mis\u001b[39;00m \u001b[38;5;28;01mNone\u001b[39;00m:\n\u001b[1;32m-> 8396\u001b[0m     \u001b[38;5;28;01mraise\u001b[39;00m \u001b[38;5;167;01mTypeError\u001b[39;00m(\u001b[38;5;124m\"\u001b[39m\u001b[38;5;124mYou have to supply one of \u001b[39m\u001b[38;5;124m'\u001b[39m\u001b[38;5;124mby\u001b[39m\u001b[38;5;124m'\u001b[39m\u001b[38;5;124m and \u001b[39m\u001b[38;5;124m'\u001b[39m\u001b[38;5;124mlevel\u001b[39m\u001b[38;5;124m'\u001b[39m\u001b[38;5;124m\"\u001b[39m)\n\u001b[0;32m   8397\u001b[0m axis \u001b[38;5;241m=\u001b[39m \u001b[38;5;28mself\u001b[39m\u001b[38;5;241m.\u001b[39m_get_axis_number(axis)\n\u001b[0;32m   8399\u001b[0m \u001b[38;5;28;01mreturn\u001b[39;00m DataFrameGroupBy(\n\u001b[0;32m   8400\u001b[0m     obj\u001b[38;5;241m=\u001b[39m\u001b[38;5;28mself\u001b[39m,\n\u001b[0;32m   8401\u001b[0m     keys\u001b[38;5;241m=\u001b[39mby,\n\u001b[1;32m   (...)\u001b[0m\n\u001b[0;32m   8409\u001b[0m     dropna\u001b[38;5;241m=\u001b[39mdropna,\n\u001b[0;32m   8410\u001b[0m )\n",
      "\u001b[1;31mTypeError\u001b[0m: You have to supply one of 'by' and 'level'"
     ]
    }
   ],
   "source": [
    "jadf.groupby()['일평균학습시간'].value_counts().sort_index()"
   ]
  },
  {
   "cell_type": "code",
   "execution_count": 40,
   "id": "b16f43a7",
   "metadata": {},
   "outputs": [
    {
     "data": {
      "text/html": [
       "<div>\n",
       "<style scoped>\n",
       "    .dataframe tbody tr th:only-of-type {\n",
       "        vertical-align: middle;\n",
       "    }\n",
       "\n",
       "    .dataframe tbody tr th {\n",
       "        vertical-align: top;\n",
       "    }\n",
       "\n",
       "    .dataframe thead th {\n",
       "        text-align: right;\n",
       "    }\n",
       "</style>\n",
       "<table border=\"1\" class=\"dataframe\">\n",
       "  <thead>\n",
       "    <tr style=\"text-align: right;\">\n",
       "      <th></th>\n",
       "      <th>성별</th>\n",
       "      <th>전공</th>\n",
       "      <th>신장</th>\n",
       "      <th>몸무게</th>\n",
       "      <th>1학년평균성적</th>\n",
       "      <th>2학년평균성적</th>\n",
       "      <th>3학년평균성적</th>\n",
       "      <th>취미</th>\n",
       "      <th>일평균학습시간</th>\n",
       "      <th>집중공부시간</th>\n",
       "      <th>기대연봉</th>\n",
       "      <th>전공만족여부</th>\n",
       "      <th>전공관련취업선호도</th>\n",
       "      <th>일평균소셜미디어사용시간</th>\n",
       "      <th>통학시간</th>\n",
       "      <th>학업스트레스</th>\n",
       "      <th>교우관계스트레스</th>\n",
       "      <th>아르바이트여부</th>\n",
       "      <th>방과후수업여부</th>\n",
       "    </tr>\n",
       "  </thead>\n",
       "  <tbody>\n",
       "    <tr>\n",
       "      <th>201</th>\n",
       "      <td>Male</td>\n",
       "      <td>B.com ISM</td>\n",
       "      <td>120.0</td>\n",
       "      <td>74.0</td>\n",
       "      <td>80</td>\n",
       "      <td>70</td>\n",
       "      <td>70</td>\n",
       "      <td>Cinema</td>\n",
       "      <td>1 - 2 Hour</td>\n",
       "      <td>Anytime</td>\n",
       "      <td>15000</td>\n",
       "      <td>Yes</td>\n",
       "      <td>75%</td>\n",
       "      <td>More than 2 hour</td>\n",
       "      <td>30 - 60 minutes</td>\n",
       "      <td>나쁨</td>\n",
       "      <td>나쁨</td>\n",
       "      <td>Yes</td>\n",
       "      <td>Yes</td>\n",
       "    </tr>\n",
       "    <tr>\n",
       "      <th>197</th>\n",
       "      <td>Male</td>\n",
       "      <td>B.com ISM</td>\n",
       "      <td>153.0</td>\n",
       "      <td>45.0</td>\n",
       "      <td>67</td>\n",
       "      <td>54</td>\n",
       "      <td>86</td>\n",
       "      <td>Cinema</td>\n",
       "      <td>30 - 60 minute</td>\n",
       "      <td>Morning</td>\n",
       "      <td>30000</td>\n",
       "      <td>Yes</td>\n",
       "      <td>100%</td>\n",
       "      <td>1 - 30 Minute</td>\n",
       "      <td>30 - 60 minutes</td>\n",
       "      <td>좋음</td>\n",
       "      <td>좋음</td>\n",
       "      <td>No</td>\n",
       "      <td>Yes</td>\n",
       "    </tr>\n",
       "    <tr>\n",
       "      <th>164</th>\n",
       "      <td>Male</td>\n",
       "      <td>Commerce</td>\n",
       "      <td>192.0</td>\n",
       "      <td>85.0</td>\n",
       "      <td>84</td>\n",
       "      <td>85</td>\n",
       "      <td>80</td>\n",
       "      <td>Cinema</td>\n",
       "      <td>30 - 60 minute</td>\n",
       "      <td>Anytime</td>\n",
       "      <td>25000</td>\n",
       "      <td>Yes</td>\n",
       "      <td>100%</td>\n",
       "      <td>30 - 60 Minute</td>\n",
       "      <td>more than 3 hour</td>\n",
       "      <td>좋음</td>\n",
       "      <td>나쁨</td>\n",
       "      <td>No</td>\n",
       "      <td>No</td>\n",
       "    </tr>\n",
       "    <tr>\n",
       "      <th>95</th>\n",
       "      <td>Male</td>\n",
       "      <td>BCA</td>\n",
       "      <td>180.0</td>\n",
       "      <td>80.0</td>\n",
       "      <td>91</td>\n",
       "      <td>73</td>\n",
       "      <td>85</td>\n",
       "      <td>Sports</td>\n",
       "      <td>30 - 60 minute</td>\n",
       "      <td>Morning</td>\n",
       "      <td>25000</td>\n",
       "      <td>Yes</td>\n",
       "      <td>100%</td>\n",
       "      <td>30 - 60 Minute</td>\n",
       "      <td>0 - 30 minutes</td>\n",
       "      <td>좋음</td>\n",
       "      <td>좋음</td>\n",
       "      <td>No</td>\n",
       "      <td>Yes</td>\n",
       "    </tr>\n",
       "    <tr>\n",
       "      <th>24</th>\n",
       "      <td>Male</td>\n",
       "      <td>BCA</td>\n",
       "      <td>167.0</td>\n",
       "      <td>85.0</td>\n",
       "      <td>75</td>\n",
       "      <td>60</td>\n",
       "      <td>80</td>\n",
       "      <td>Cinema</td>\n",
       "      <td>0 - 30 minute</td>\n",
       "      <td>Anytime</td>\n",
       "      <td>20000</td>\n",
       "      <td>Yes</td>\n",
       "      <td>50%</td>\n",
       "      <td>1.30 - 2 hour</td>\n",
       "      <td>2 - 2.30 hour</td>\n",
       "      <td>끔찍함</td>\n",
       "      <td>좋음</td>\n",
       "      <td>No</td>\n",
       "      <td>No</td>\n",
       "    </tr>\n",
       "    <tr>\n",
       "      <th>...</th>\n",
       "      <td>...</td>\n",
       "      <td>...</td>\n",
       "      <td>...</td>\n",
       "      <td>...</td>\n",
       "      <td>...</td>\n",
       "      <td>...</td>\n",
       "      <td>...</td>\n",
       "      <td>...</td>\n",
       "      <td>...</td>\n",
       "      <td>...</td>\n",
       "      <td>...</td>\n",
       "      <td>...</td>\n",
       "      <td>...</td>\n",
       "      <td>...</td>\n",
       "      <td>...</td>\n",
       "      <td>...</td>\n",
       "      <td>...</td>\n",
       "      <td>...</td>\n",
       "      <td>...</td>\n",
       "    </tr>\n",
       "    <tr>\n",
       "      <th>191</th>\n",
       "      <td>Male</td>\n",
       "      <td>B.com ISM</td>\n",
       "      <td>180.0</td>\n",
       "      <td>65.0</td>\n",
       "      <td>86</td>\n",
       "      <td>86</td>\n",
       "      <td>89</td>\n",
       "      <td>Video Games</td>\n",
       "      <td>30 - 60 minute</td>\n",
       "      <td>Anytime</td>\n",
       "      <td>20000</td>\n",
       "      <td>Yes</td>\n",
       "      <td>50%</td>\n",
       "      <td>1 - 1.30 hour</td>\n",
       "      <td>1 - 1.30 hour</td>\n",
       "      <td>좋음</td>\n",
       "      <td>좋음</td>\n",
       "      <td>No</td>\n",
       "      <td>No</td>\n",
       "    </tr>\n",
       "    <tr>\n",
       "      <th>142</th>\n",
       "      <td>Male</td>\n",
       "      <td>BCA</td>\n",
       "      <td>182.0</td>\n",
       "      <td>58.0</td>\n",
       "      <td>80</td>\n",
       "      <td>60</td>\n",
       "      <td>65</td>\n",
       "      <td>Sports</td>\n",
       "      <td>1 - 2 Hour</td>\n",
       "      <td>Night</td>\n",
       "      <td>25000</td>\n",
       "      <td>Yes</td>\n",
       "      <td>50%</td>\n",
       "      <td>30 - 60 Minute</td>\n",
       "      <td>30 - 60 minutes</td>\n",
       "      <td>나쁨</td>\n",
       "      <td>좋음</td>\n",
       "      <td>No</td>\n",
       "      <td>Yes</td>\n",
       "    </tr>\n",
       "    <tr>\n",
       "      <th>69</th>\n",
       "      <td>Male</td>\n",
       "      <td>BCA</td>\n",
       "      <td>162.0</td>\n",
       "      <td>73.0</td>\n",
       "      <td>50</td>\n",
       "      <td>50</td>\n",
       "      <td>60</td>\n",
       "      <td>Reading books</td>\n",
       "      <td>30 - 60 minute</td>\n",
       "      <td>Night</td>\n",
       "      <td>10000</td>\n",
       "      <td>Yes</td>\n",
       "      <td>75%</td>\n",
       "      <td>1 - 30 Minute</td>\n",
       "      <td>1 - 1.30 hour</td>\n",
       "      <td>나쁨</td>\n",
       "      <td>좋음</td>\n",
       "      <td>No</td>\n",
       "      <td>Yes</td>\n",
       "    </tr>\n",
       "    <tr>\n",
       "      <th>131</th>\n",
       "      <td>Male</td>\n",
       "      <td>BCA</td>\n",
       "      <td>177.0</td>\n",
       "      <td>57.0</td>\n",
       "      <td>75</td>\n",
       "      <td>57</td>\n",
       "      <td>55</td>\n",
       "      <td>Sports</td>\n",
       "      <td>0 - 30 minute</td>\n",
       "      <td>Morning</td>\n",
       "      <td>18000</td>\n",
       "      <td>Yes</td>\n",
       "      <td>50%</td>\n",
       "      <td>1.30 - 2 hour</td>\n",
       "      <td>0 - 30 minutes</td>\n",
       "      <td>좋음</td>\n",
       "      <td>좋음</td>\n",
       "      <td>No</td>\n",
       "      <td>Yes</td>\n",
       "    </tr>\n",
       "    <tr>\n",
       "      <th>169</th>\n",
       "      <td>Male</td>\n",
       "      <td>Commerce</td>\n",
       "      <td>175.0</td>\n",
       "      <td>59.0</td>\n",
       "      <td>81</td>\n",
       "      <td>64</td>\n",
       "      <td>85</td>\n",
       "      <td>Sports</td>\n",
       "      <td>1 - 2 Hour</td>\n",
       "      <td>Anytime</td>\n",
       "      <td>15000</td>\n",
       "      <td>Yes</td>\n",
       "      <td>50%</td>\n",
       "      <td>1.30 - 2 hour</td>\n",
       "      <td>30 - 60 minutes</td>\n",
       "      <td>좋음</td>\n",
       "      <td>좋음</td>\n",
       "      <td>No</td>\n",
       "      <td>Yes</td>\n",
       "    </tr>\n",
       "  </tbody>\n",
       "</table>\n",
       "<p>79 rows × 19 columns</p>\n",
       "</div>"
      ],
      "text/plain": [
       "       성별         전공     신장   몸무게  1학년평균성적  2학년평균성적  3학년평균성적             취미  \\\n",
       "201  Male  B.com ISM  120.0  74.0       80       70       70         Cinema   \n",
       "197  Male  B.com ISM  153.0  45.0       67       54       86         Cinema   \n",
       "164  Male   Commerce  192.0  85.0       84       85       80         Cinema   \n",
       "95   Male        BCA  180.0  80.0       91       73       85         Sports   \n",
       "24   Male        BCA  167.0  85.0       75       60       80         Cinema   \n",
       "..    ...        ...    ...   ...      ...      ...      ...            ...   \n",
       "191  Male  B.com ISM  180.0  65.0       86       86       89    Video Games   \n",
       "142  Male        BCA  182.0  58.0       80       60       65         Sports   \n",
       "69   Male        BCA  162.0  73.0       50       50       60  Reading books   \n",
       "131  Male        BCA  177.0  57.0       75       57       55         Sports   \n",
       "169  Male   Commerce  175.0  59.0       81       64       85         Sports   \n",
       "\n",
       "            일평균학습시간   집중공부시간   기대연봉 전공만족여부 전공관련취업선호도      일평균소셜미디어사용시간  \\\n",
       "201      1 - 2 Hour  Anytime  15000    Yes       75%  More than 2 hour   \n",
       "197  30 - 60 minute  Morning  30000    Yes      100%     1 - 30 Minute   \n",
       "164  30 - 60 minute  Anytime  25000    Yes      100%    30 - 60 Minute   \n",
       "95   30 - 60 minute  Morning  25000    Yes      100%    30 - 60 Minute   \n",
       "24    0 - 30 minute  Anytime  20000    Yes       50%     1.30 - 2 hour   \n",
       "..              ...      ...    ...    ...       ...               ...   \n",
       "191  30 - 60 minute  Anytime  20000    Yes       50%     1 - 1.30 hour   \n",
       "142      1 - 2 Hour    Night  25000    Yes       50%    30 - 60 Minute   \n",
       "69   30 - 60 minute    Night  10000    Yes       75%     1 - 30 Minute   \n",
       "131   0 - 30 minute  Morning  18000    Yes       50%     1.30 - 2 hour   \n",
       "169      1 - 2 Hour  Anytime  15000    Yes       50%     1.30 - 2 hour   \n",
       "\n",
       "                 통학시간 학업스트레스 교우관계스트레스 아르바이트여부 방과후수업여부  \n",
       "201   30 - 60 minutes     나쁨       나쁨     Yes     Yes  \n",
       "197   30 - 60 minutes     좋음       좋음      No     Yes  \n",
       "164  more than 3 hour     좋음       나쁨      No      No  \n",
       "95     0 - 30 minutes     좋음       좋음      No     Yes  \n",
       "24      2 - 2.30 hour    끔찍함       좋음      No      No  \n",
       "..                ...    ...      ...     ...     ...  \n",
       "191     1 - 1.30 hour     좋음       좋음      No      No  \n",
       "142   30 - 60 minutes     나쁨       좋음      No     Yes  \n",
       "69      1 - 1.30 hour     나쁨       좋음      No     Yes  \n",
       "131    0 - 30 minutes     좋음       좋음      No     Yes  \n",
       "169   30 - 60 minutes     좋음       좋음      No     Yes  \n",
       "\n",
       "[79 rows x 19 columns]"
      ]
     },
     "execution_count": 40,
     "metadata": {},
     "output_type": "execute_result"
    }
   ],
   "source": [
    "male"
   ]
  },
  {
   "cell_type": "code",
   "execution_count": 33,
   "id": "a54ae713",
   "metadata": {},
   "outputs": [],
   "source": [
    "studingTimeMale = male['일평균소셜미디어사용시간']\n",
    "studingTimeMale = pd.DataFrame(studingTimeMale.value_counts())\n",
    "studingTimeMale['index'] = studingTimeMale.index\n",
    "studingTimeMale.index = [x for x in range(0,6)]"
   ]
  },
  {
   "cell_type": "code",
   "execution_count": 34,
   "id": "dddddf97",
   "metadata": {},
   "outputs": [],
   "source": [
    "studingTimeFemale = female['일평균소셜미디어사용시간']\n",
    "studingTimeFemale = pd.DataFrame(studingTimeFemale.value_counts())\n",
    "studingTimeFemale['index'] = studingTimeFemale.index\n",
    "studingTimeFemale.index = [x for x in range(0,6)]"
   ]
  },
  {
   "cell_type": "code",
   "execution_count": 22,
   "id": "bca791fd",
   "metadata": {
    "scrolled": true
   },
   "outputs": [
    {
     "name": "stdout",
     "output_type": "stream",
     "text": [
      "   일평균학습시간             index\n",
      "0       33    30 - 60 minute\n",
      "1       21     0 - 30 minute\n",
      "2       12        1 - 2 Hour\n",
      "3        6        2 - 3 hour\n",
      "4        4        3 - 4 hour\n",
      "5        3  More Than 4 hour\n",
      "   일평균학습시간             index\n",
      "0       24        1 - 2 Hour\n",
      "1       21    30 - 60 minute\n",
      "2       14        2 - 3 hour\n",
      "3       11     0 - 30 minute\n",
      "4        7        3 - 4 hour\n",
      "5        2  More Than 4 hour\n"
     ]
    }
   ],
   "source": [
    "print(studingTimeMale)\n",
    "print(studingTimeFemale)"
   ]
  },
  {
   "cell_type": "code",
   "execution_count": 39,
   "id": "fb82287e",
   "metadata": {},
   "outputs": [
    {
     "data": {
      "application/vnd.plotly.v1+json": {
       "config": {
        "plotlyServerURL": "https://plot.ly"
       },
       "data": [
        {
         "domain": {
          "x": [
           0,
           0.45
          ],
          "y": [
           0,
           1
          ]
         },
         "hole": 0.4,
         "hoverinfo": "label+percent",
         "labels": [
          "30 - 60 Minute",
          "1 - 30 Minute",
          "1 - 1.30 hour",
          "More than 2 hour",
          "1.30 - 2 hour",
          "0 Minute"
         ],
         "type": "pie",
         "values": [
          25,
          19,
          13,
          11,
          10,
          1
         ]
        },
        {
         "domain": {
          "x": [
           0.55,
           1
          ],
          "y": [
           0,
           1
          ]
         },
         "hole": 0.4,
         "hoverinfo": "label+percent",
         "labels": [
          "30 - 60 Minute",
          "1 - 1.30 hour",
          "1 - 30 Minute",
          "More than 2 hour",
          "1.30 - 2 hour",
          "0 Minute"
         ],
         "type": "pie",
         "values": [
          24,
          21,
          14,
          10,
          8,
          2
         ]
        }
       ],
       "layout": {
        "annotations": [
         {
          "font": {
           "size": 12
          },
          "showarrow": false,
          "text": "Male",
          "x": 0.2,
          "y": 0.5
         },
         {
          "font": {
           "size": 12
          },
          "showarrow": false,
          "text": "Female",
          "x": 0.815,
          "y": 0.5
         }
        ],
        "font": {
         "size": 10
        },
        "template": {
         "data": {
          "bar": [
           {
            "error_x": {
             "color": "#2a3f5f"
            },
            "error_y": {
             "color": "#2a3f5f"
            },
            "marker": {
             "line": {
              "color": "#E5ECF6",
              "width": 0.5
             },
             "pattern": {
              "fillmode": "overlay",
              "size": 10,
              "solidity": 0.2
             }
            },
            "type": "bar"
           }
          ],
          "barpolar": [
           {
            "marker": {
             "line": {
              "color": "#E5ECF6",
              "width": 0.5
             },
             "pattern": {
              "fillmode": "overlay",
              "size": 10,
              "solidity": 0.2
             }
            },
            "type": "barpolar"
           }
          ],
          "carpet": [
           {
            "aaxis": {
             "endlinecolor": "#2a3f5f",
             "gridcolor": "white",
             "linecolor": "white",
             "minorgridcolor": "white",
             "startlinecolor": "#2a3f5f"
            },
            "baxis": {
             "endlinecolor": "#2a3f5f",
             "gridcolor": "white",
             "linecolor": "white",
             "minorgridcolor": "white",
             "startlinecolor": "#2a3f5f"
            },
            "type": "carpet"
           }
          ],
          "choropleth": [
           {
            "colorbar": {
             "outlinewidth": 0,
             "ticks": ""
            },
            "type": "choropleth"
           }
          ],
          "contour": [
           {
            "colorbar": {
             "outlinewidth": 0,
             "ticks": ""
            },
            "colorscale": [
             [
              0,
              "#0d0887"
             ],
             [
              0.1111111111111111,
              "#46039f"
             ],
             [
              0.2222222222222222,
              "#7201a8"
             ],
             [
              0.3333333333333333,
              "#9c179e"
             ],
             [
              0.4444444444444444,
              "#bd3786"
             ],
             [
              0.5555555555555556,
              "#d8576b"
             ],
             [
              0.6666666666666666,
              "#ed7953"
             ],
             [
              0.7777777777777778,
              "#fb9f3a"
             ],
             [
              0.8888888888888888,
              "#fdca26"
             ],
             [
              1,
              "#f0f921"
             ]
            ],
            "type": "contour"
           }
          ],
          "contourcarpet": [
           {
            "colorbar": {
             "outlinewidth": 0,
             "ticks": ""
            },
            "type": "contourcarpet"
           }
          ],
          "heatmap": [
           {
            "colorbar": {
             "outlinewidth": 0,
             "ticks": ""
            },
            "colorscale": [
             [
              0,
              "#0d0887"
             ],
             [
              0.1111111111111111,
              "#46039f"
             ],
             [
              0.2222222222222222,
              "#7201a8"
             ],
             [
              0.3333333333333333,
              "#9c179e"
             ],
             [
              0.4444444444444444,
              "#bd3786"
             ],
             [
              0.5555555555555556,
              "#d8576b"
             ],
             [
              0.6666666666666666,
              "#ed7953"
             ],
             [
              0.7777777777777778,
              "#fb9f3a"
             ],
             [
              0.8888888888888888,
              "#fdca26"
             ],
             [
              1,
              "#f0f921"
             ]
            ],
            "type": "heatmap"
           }
          ],
          "heatmapgl": [
           {
            "colorbar": {
             "outlinewidth": 0,
             "ticks": ""
            },
            "colorscale": [
             [
              0,
              "#0d0887"
             ],
             [
              0.1111111111111111,
              "#46039f"
             ],
             [
              0.2222222222222222,
              "#7201a8"
             ],
             [
              0.3333333333333333,
              "#9c179e"
             ],
             [
              0.4444444444444444,
              "#bd3786"
             ],
             [
              0.5555555555555556,
              "#d8576b"
             ],
             [
              0.6666666666666666,
              "#ed7953"
             ],
             [
              0.7777777777777778,
              "#fb9f3a"
             ],
             [
              0.8888888888888888,
              "#fdca26"
             ],
             [
              1,
              "#f0f921"
             ]
            ],
            "type": "heatmapgl"
           }
          ],
          "histogram": [
           {
            "marker": {
             "pattern": {
              "fillmode": "overlay",
              "size": 10,
              "solidity": 0.2
             }
            },
            "type": "histogram"
           }
          ],
          "histogram2d": [
           {
            "colorbar": {
             "outlinewidth": 0,
             "ticks": ""
            },
            "colorscale": [
             [
              0,
              "#0d0887"
             ],
             [
              0.1111111111111111,
              "#46039f"
             ],
             [
              0.2222222222222222,
              "#7201a8"
             ],
             [
              0.3333333333333333,
              "#9c179e"
             ],
             [
              0.4444444444444444,
              "#bd3786"
             ],
             [
              0.5555555555555556,
              "#d8576b"
             ],
             [
              0.6666666666666666,
              "#ed7953"
             ],
             [
              0.7777777777777778,
              "#fb9f3a"
             ],
             [
              0.8888888888888888,
              "#fdca26"
             ],
             [
              1,
              "#f0f921"
             ]
            ],
            "type": "histogram2d"
           }
          ],
          "histogram2dcontour": [
           {
            "colorbar": {
             "outlinewidth": 0,
             "ticks": ""
            },
            "colorscale": [
             [
              0,
              "#0d0887"
             ],
             [
              0.1111111111111111,
              "#46039f"
             ],
             [
              0.2222222222222222,
              "#7201a8"
             ],
             [
              0.3333333333333333,
              "#9c179e"
             ],
             [
              0.4444444444444444,
              "#bd3786"
             ],
             [
              0.5555555555555556,
              "#d8576b"
             ],
             [
              0.6666666666666666,
              "#ed7953"
             ],
             [
              0.7777777777777778,
              "#fb9f3a"
             ],
             [
              0.8888888888888888,
              "#fdca26"
             ],
             [
              1,
              "#f0f921"
             ]
            ],
            "type": "histogram2dcontour"
           }
          ],
          "mesh3d": [
           {
            "colorbar": {
             "outlinewidth": 0,
             "ticks": ""
            },
            "type": "mesh3d"
           }
          ],
          "parcoords": [
           {
            "line": {
             "colorbar": {
              "outlinewidth": 0,
              "ticks": ""
             }
            },
            "type": "parcoords"
           }
          ],
          "pie": [
           {
            "automargin": true,
            "type": "pie"
           }
          ],
          "scatter": [
           {
            "fillpattern": {
             "fillmode": "overlay",
             "size": 10,
             "solidity": 0.2
            },
            "type": "scatter"
           }
          ],
          "scatter3d": [
           {
            "line": {
             "colorbar": {
              "outlinewidth": 0,
              "ticks": ""
             }
            },
            "marker": {
             "colorbar": {
              "outlinewidth": 0,
              "ticks": ""
             }
            },
            "type": "scatter3d"
           }
          ],
          "scattercarpet": [
           {
            "marker": {
             "colorbar": {
              "outlinewidth": 0,
              "ticks": ""
             }
            },
            "type": "scattercarpet"
           }
          ],
          "scattergeo": [
           {
            "marker": {
             "colorbar": {
              "outlinewidth": 0,
              "ticks": ""
             }
            },
            "type": "scattergeo"
           }
          ],
          "scattergl": [
           {
            "marker": {
             "colorbar": {
              "outlinewidth": 0,
              "ticks": ""
             }
            },
            "type": "scattergl"
           }
          ],
          "scattermapbox": [
           {
            "marker": {
             "colorbar": {
              "outlinewidth": 0,
              "ticks": ""
             }
            },
            "type": "scattermapbox"
           }
          ],
          "scatterpolar": [
           {
            "marker": {
             "colorbar": {
              "outlinewidth": 0,
              "ticks": ""
             }
            },
            "type": "scatterpolar"
           }
          ],
          "scatterpolargl": [
           {
            "marker": {
             "colorbar": {
              "outlinewidth": 0,
              "ticks": ""
             }
            },
            "type": "scatterpolargl"
           }
          ],
          "scatterternary": [
           {
            "marker": {
             "colorbar": {
              "outlinewidth": 0,
              "ticks": ""
             }
            },
            "type": "scatterternary"
           }
          ],
          "surface": [
           {
            "colorbar": {
             "outlinewidth": 0,
             "ticks": ""
            },
            "colorscale": [
             [
              0,
              "#0d0887"
             ],
             [
              0.1111111111111111,
              "#46039f"
             ],
             [
              0.2222222222222222,
              "#7201a8"
             ],
             [
              0.3333333333333333,
              "#9c179e"
             ],
             [
              0.4444444444444444,
              "#bd3786"
             ],
             [
              0.5555555555555556,
              "#d8576b"
             ],
             [
              0.6666666666666666,
              "#ed7953"
             ],
             [
              0.7777777777777778,
              "#fb9f3a"
             ],
             [
              0.8888888888888888,
              "#fdca26"
             ],
             [
              1,
              "#f0f921"
             ]
            ],
            "type": "surface"
           }
          ],
          "table": [
           {
            "cells": {
             "fill": {
              "color": "#EBF0F8"
             },
             "line": {
              "color": "white"
             }
            },
            "header": {
             "fill": {
              "color": "#C8D4E3"
             },
             "line": {
              "color": "white"
             }
            },
            "type": "table"
           }
          ]
         },
         "layout": {
          "annotationdefaults": {
           "arrowcolor": "#2a3f5f",
           "arrowhead": 0,
           "arrowwidth": 1
          },
          "autotypenumbers": "strict",
          "coloraxis": {
           "colorbar": {
            "outlinewidth": 0,
            "ticks": ""
           }
          },
          "colorscale": {
           "diverging": [
            [
             0,
             "#8e0152"
            ],
            [
             0.1,
             "#c51b7d"
            ],
            [
             0.2,
             "#de77ae"
            ],
            [
             0.3,
             "#f1b6da"
            ],
            [
             0.4,
             "#fde0ef"
            ],
            [
             0.5,
             "#f7f7f7"
            ],
            [
             0.6,
             "#e6f5d0"
            ],
            [
             0.7,
             "#b8e186"
            ],
            [
             0.8,
             "#7fbc41"
            ],
            [
             0.9,
             "#4d9221"
            ],
            [
             1,
             "#276419"
            ]
           ],
           "sequential": [
            [
             0,
             "#0d0887"
            ],
            [
             0.1111111111111111,
             "#46039f"
            ],
            [
             0.2222222222222222,
             "#7201a8"
            ],
            [
             0.3333333333333333,
             "#9c179e"
            ],
            [
             0.4444444444444444,
             "#bd3786"
            ],
            [
             0.5555555555555556,
             "#d8576b"
            ],
            [
             0.6666666666666666,
             "#ed7953"
            ],
            [
             0.7777777777777778,
             "#fb9f3a"
            ],
            [
             0.8888888888888888,
             "#fdca26"
            ],
            [
             1,
             "#f0f921"
            ]
           ],
           "sequentialminus": [
            [
             0,
             "#0d0887"
            ],
            [
             0.1111111111111111,
             "#46039f"
            ],
            [
             0.2222222222222222,
             "#7201a8"
            ],
            [
             0.3333333333333333,
             "#9c179e"
            ],
            [
             0.4444444444444444,
             "#bd3786"
            ],
            [
             0.5555555555555556,
             "#d8576b"
            ],
            [
             0.6666666666666666,
             "#ed7953"
            ],
            [
             0.7777777777777778,
             "#fb9f3a"
            ],
            [
             0.8888888888888888,
             "#fdca26"
            ],
            [
             1,
             "#f0f921"
            ]
           ]
          },
          "colorway": [
           "#636efa",
           "#EF553B",
           "#00cc96",
           "#ab63fa",
           "#FFA15A",
           "#19d3f3",
           "#FF6692",
           "#B6E880",
           "#FF97FF",
           "#FECB52"
          ],
          "font": {
           "color": "#2a3f5f"
          },
          "geo": {
           "bgcolor": "white",
           "lakecolor": "white",
           "landcolor": "#E5ECF6",
           "showlakes": true,
           "showland": true,
           "subunitcolor": "white"
          },
          "hoverlabel": {
           "align": "left"
          },
          "hovermode": "closest",
          "mapbox": {
           "style": "light"
          },
          "paper_bgcolor": "white",
          "plot_bgcolor": "#E5ECF6",
          "polar": {
           "angularaxis": {
            "gridcolor": "white",
            "linecolor": "white",
            "ticks": ""
           },
           "bgcolor": "#E5ECF6",
           "radialaxis": {
            "gridcolor": "white",
            "linecolor": "white",
            "ticks": ""
           }
          },
          "scene": {
           "xaxis": {
            "backgroundcolor": "#E5ECF6",
            "gridcolor": "white",
            "gridwidth": 2,
            "linecolor": "white",
            "showbackground": true,
            "ticks": "",
            "zerolinecolor": "white"
           },
           "yaxis": {
            "backgroundcolor": "#E5ECF6",
            "gridcolor": "white",
            "gridwidth": 2,
            "linecolor": "white",
            "showbackground": true,
            "ticks": "",
            "zerolinecolor": "white"
           },
           "zaxis": {
            "backgroundcolor": "#E5ECF6",
            "gridcolor": "white",
            "gridwidth": 2,
            "linecolor": "white",
            "showbackground": true,
            "ticks": "",
            "zerolinecolor": "white"
           }
          },
          "shapedefaults": {
           "line": {
            "color": "#2a3f5f"
           }
          },
          "ternary": {
           "aaxis": {
            "gridcolor": "white",
            "linecolor": "white",
            "ticks": ""
           },
           "baxis": {
            "gridcolor": "white",
            "linecolor": "white",
            "ticks": ""
           },
           "bgcolor": "#E5ECF6",
           "caxis": {
            "gridcolor": "white",
            "linecolor": "white",
            "ticks": ""
           }
          },
          "title": {
           "x": 0.05
          },
          "xaxis": {
           "automargin": true,
           "gridcolor": "white",
           "linecolor": "white",
           "ticks": "",
           "title": {
            "standoff": 15
           },
           "zerolinecolor": "white",
           "zerolinewidth": 2
          },
          "yaxis": {
           "automargin": true,
           "gridcolor": "white",
           "linecolor": "white",
           "ticks": "",
           "title": {
            "standoff": 15
           },
           "zerolinecolor": "white",
           "zerolinewidth": 2
          }
         }
        },
        "title": {
         "text": "남학생과 여학생의 일펴균 소셜미디어 사용시간 비교",
         "x": 0.5
        }
       }
      },
      "text/html": [
       "<div>                            <div id=\"73c2e342-ce59-421d-a5fd-d5af6d2945ca\" class=\"plotly-graph-div\" style=\"height:525px; width:100%;\"></div>            <script type=\"text/javascript\">                require([\"plotly\"], function(Plotly) {                    window.PLOTLYENV=window.PLOTLYENV || {};                                    if (document.getElementById(\"73c2e342-ce59-421d-a5fd-d5af6d2945ca\")) {                    Plotly.newPlot(                        \"73c2e342-ce59-421d-a5fd-d5af6d2945ca\",                        [{\"labels\":[\"30 - 60 Minute\",\"1 - 30 Minute\",\"1 - 1.30 hour\",\"More than 2 hour\",\"1.30 - 2 hour\",\"0 Minute\"],\"values\":[25,19,13,11,10,1],\"type\":\"pie\",\"domain\":{\"x\":[0.0,0.45],\"y\":[0.0,1.0]},\"hole\":0.4,\"hoverinfo\":\"label+percent\"},{\"labels\":[\"30 - 60 Minute\",\"1 - 1.30 hour\",\"1 - 30 Minute\",\"More than 2 hour\",\"1.30 - 2 hour\",\"0 Minute\"],\"values\":[24,21,14,10,8,2],\"type\":\"pie\",\"domain\":{\"x\":[0.55,1.0],\"y\":[0.0,1.0]},\"hole\":0.4,\"hoverinfo\":\"label+percent\"}],                        {\"template\":{\"data\":{\"histogram2dcontour\":[{\"type\":\"histogram2dcontour\",\"colorbar\":{\"outlinewidth\":0,\"ticks\":\"\"},\"colorscale\":[[0.0,\"#0d0887\"],[0.1111111111111111,\"#46039f\"],[0.2222222222222222,\"#7201a8\"],[0.3333333333333333,\"#9c179e\"],[0.4444444444444444,\"#bd3786\"],[0.5555555555555556,\"#d8576b\"],[0.6666666666666666,\"#ed7953\"],[0.7777777777777778,\"#fb9f3a\"],[0.8888888888888888,\"#fdca26\"],[1.0,\"#f0f921\"]]}],\"choropleth\":[{\"type\":\"choropleth\",\"colorbar\":{\"outlinewidth\":0,\"ticks\":\"\"}}],\"histogram2d\":[{\"type\":\"histogram2d\",\"colorbar\":{\"outlinewidth\":0,\"ticks\":\"\"},\"colorscale\":[[0.0,\"#0d0887\"],[0.1111111111111111,\"#46039f\"],[0.2222222222222222,\"#7201a8\"],[0.3333333333333333,\"#9c179e\"],[0.4444444444444444,\"#bd3786\"],[0.5555555555555556,\"#d8576b\"],[0.6666666666666666,\"#ed7953\"],[0.7777777777777778,\"#fb9f3a\"],[0.8888888888888888,\"#fdca26\"],[1.0,\"#f0f921\"]]}],\"heatmap\":[{\"type\":\"heatmap\",\"colorbar\":{\"outlinewidth\":0,\"ticks\":\"\"},\"colorscale\":[[0.0,\"#0d0887\"],[0.1111111111111111,\"#46039f\"],[0.2222222222222222,\"#7201a8\"],[0.3333333333333333,\"#9c179e\"],[0.4444444444444444,\"#bd3786\"],[0.5555555555555556,\"#d8576b\"],[0.6666666666666666,\"#ed7953\"],[0.7777777777777778,\"#fb9f3a\"],[0.8888888888888888,\"#fdca26\"],[1.0,\"#f0f921\"]]}],\"heatmapgl\":[{\"type\":\"heatmapgl\",\"colorbar\":{\"outlinewidth\":0,\"ticks\":\"\"},\"colorscale\":[[0.0,\"#0d0887\"],[0.1111111111111111,\"#46039f\"],[0.2222222222222222,\"#7201a8\"],[0.3333333333333333,\"#9c179e\"],[0.4444444444444444,\"#bd3786\"],[0.5555555555555556,\"#d8576b\"],[0.6666666666666666,\"#ed7953\"],[0.7777777777777778,\"#fb9f3a\"],[0.8888888888888888,\"#fdca26\"],[1.0,\"#f0f921\"]]}],\"contourcarpet\":[{\"type\":\"contourcarpet\",\"colorbar\":{\"outlinewidth\":0,\"ticks\":\"\"}}],\"contour\":[{\"type\":\"contour\",\"colorbar\":{\"outlinewidth\":0,\"ticks\":\"\"},\"colorscale\":[[0.0,\"#0d0887\"],[0.1111111111111111,\"#46039f\"],[0.2222222222222222,\"#7201a8\"],[0.3333333333333333,\"#9c179e\"],[0.4444444444444444,\"#bd3786\"],[0.5555555555555556,\"#d8576b\"],[0.6666666666666666,\"#ed7953\"],[0.7777777777777778,\"#fb9f3a\"],[0.8888888888888888,\"#fdca26\"],[1.0,\"#f0f921\"]]}],\"surface\":[{\"type\":\"surface\",\"colorbar\":{\"outlinewidth\":0,\"ticks\":\"\"},\"colorscale\":[[0.0,\"#0d0887\"],[0.1111111111111111,\"#46039f\"],[0.2222222222222222,\"#7201a8\"],[0.3333333333333333,\"#9c179e\"],[0.4444444444444444,\"#bd3786\"],[0.5555555555555556,\"#d8576b\"],[0.6666666666666666,\"#ed7953\"],[0.7777777777777778,\"#fb9f3a\"],[0.8888888888888888,\"#fdca26\"],[1.0,\"#f0f921\"]]}],\"mesh3d\":[{\"type\":\"mesh3d\",\"colorbar\":{\"outlinewidth\":0,\"ticks\":\"\"}}],\"scatter\":[{\"fillpattern\":{\"fillmode\":\"overlay\",\"size\":10,\"solidity\":0.2},\"type\":\"scatter\"}],\"parcoords\":[{\"type\":\"parcoords\",\"line\":{\"colorbar\":{\"outlinewidth\":0,\"ticks\":\"\"}}}],\"scatterpolargl\":[{\"type\":\"scatterpolargl\",\"marker\":{\"colorbar\":{\"outlinewidth\":0,\"ticks\":\"\"}}}],\"bar\":[{\"error_x\":{\"color\":\"#2a3f5f\"},\"error_y\":{\"color\":\"#2a3f5f\"},\"marker\":{\"line\":{\"color\":\"#E5ECF6\",\"width\":0.5},\"pattern\":{\"fillmode\":\"overlay\",\"size\":10,\"solidity\":0.2}},\"type\":\"bar\"}],\"scattergeo\":[{\"type\":\"scattergeo\",\"marker\":{\"colorbar\":{\"outlinewidth\":0,\"ticks\":\"\"}}}],\"scatterpolar\":[{\"type\":\"scatterpolar\",\"marker\":{\"colorbar\":{\"outlinewidth\":0,\"ticks\":\"\"}}}],\"histogram\":[{\"marker\":{\"pattern\":{\"fillmode\":\"overlay\",\"size\":10,\"solidity\":0.2}},\"type\":\"histogram\"}],\"scattergl\":[{\"type\":\"scattergl\",\"marker\":{\"colorbar\":{\"outlinewidth\":0,\"ticks\":\"\"}}}],\"scatter3d\":[{\"type\":\"scatter3d\",\"line\":{\"colorbar\":{\"outlinewidth\":0,\"ticks\":\"\"}},\"marker\":{\"colorbar\":{\"outlinewidth\":0,\"ticks\":\"\"}}}],\"scattermapbox\":[{\"type\":\"scattermapbox\",\"marker\":{\"colorbar\":{\"outlinewidth\":0,\"ticks\":\"\"}}}],\"scatterternary\":[{\"type\":\"scatterternary\",\"marker\":{\"colorbar\":{\"outlinewidth\":0,\"ticks\":\"\"}}}],\"scattercarpet\":[{\"type\":\"scattercarpet\",\"marker\":{\"colorbar\":{\"outlinewidth\":0,\"ticks\":\"\"}}}],\"carpet\":[{\"aaxis\":{\"endlinecolor\":\"#2a3f5f\",\"gridcolor\":\"white\",\"linecolor\":\"white\",\"minorgridcolor\":\"white\",\"startlinecolor\":\"#2a3f5f\"},\"baxis\":{\"endlinecolor\":\"#2a3f5f\",\"gridcolor\":\"white\",\"linecolor\":\"white\",\"minorgridcolor\":\"white\",\"startlinecolor\":\"#2a3f5f\"},\"type\":\"carpet\"}],\"table\":[{\"cells\":{\"fill\":{\"color\":\"#EBF0F8\"},\"line\":{\"color\":\"white\"}},\"header\":{\"fill\":{\"color\":\"#C8D4E3\"},\"line\":{\"color\":\"white\"}},\"type\":\"table\"}],\"barpolar\":[{\"marker\":{\"line\":{\"color\":\"#E5ECF6\",\"width\":0.5},\"pattern\":{\"fillmode\":\"overlay\",\"size\":10,\"solidity\":0.2}},\"type\":\"barpolar\"}],\"pie\":[{\"automargin\":true,\"type\":\"pie\"}]},\"layout\":{\"autotypenumbers\":\"strict\",\"colorway\":[\"#636efa\",\"#EF553B\",\"#00cc96\",\"#ab63fa\",\"#FFA15A\",\"#19d3f3\",\"#FF6692\",\"#B6E880\",\"#FF97FF\",\"#FECB52\"],\"font\":{\"color\":\"#2a3f5f\"},\"hovermode\":\"closest\",\"hoverlabel\":{\"align\":\"left\"},\"paper_bgcolor\":\"white\",\"plot_bgcolor\":\"#E5ECF6\",\"polar\":{\"bgcolor\":\"#E5ECF6\",\"angularaxis\":{\"gridcolor\":\"white\",\"linecolor\":\"white\",\"ticks\":\"\"},\"radialaxis\":{\"gridcolor\":\"white\",\"linecolor\":\"white\",\"ticks\":\"\"}},\"ternary\":{\"bgcolor\":\"#E5ECF6\",\"aaxis\":{\"gridcolor\":\"white\",\"linecolor\":\"white\",\"ticks\":\"\"},\"baxis\":{\"gridcolor\":\"white\",\"linecolor\":\"white\",\"ticks\":\"\"},\"caxis\":{\"gridcolor\":\"white\",\"linecolor\":\"white\",\"ticks\":\"\"}},\"coloraxis\":{\"colorbar\":{\"outlinewidth\":0,\"ticks\":\"\"}},\"colorscale\":{\"sequential\":[[0.0,\"#0d0887\"],[0.1111111111111111,\"#46039f\"],[0.2222222222222222,\"#7201a8\"],[0.3333333333333333,\"#9c179e\"],[0.4444444444444444,\"#bd3786\"],[0.5555555555555556,\"#d8576b\"],[0.6666666666666666,\"#ed7953\"],[0.7777777777777778,\"#fb9f3a\"],[0.8888888888888888,\"#fdca26\"],[1.0,\"#f0f921\"]],\"sequentialminus\":[[0.0,\"#0d0887\"],[0.1111111111111111,\"#46039f\"],[0.2222222222222222,\"#7201a8\"],[0.3333333333333333,\"#9c179e\"],[0.4444444444444444,\"#bd3786\"],[0.5555555555555556,\"#d8576b\"],[0.6666666666666666,\"#ed7953\"],[0.7777777777777778,\"#fb9f3a\"],[0.8888888888888888,\"#fdca26\"],[1.0,\"#f0f921\"]],\"diverging\":[[0,\"#8e0152\"],[0.1,\"#c51b7d\"],[0.2,\"#de77ae\"],[0.3,\"#f1b6da\"],[0.4,\"#fde0ef\"],[0.5,\"#f7f7f7\"],[0.6,\"#e6f5d0\"],[0.7,\"#b8e186\"],[0.8,\"#7fbc41\"],[0.9,\"#4d9221\"],[1,\"#276419\"]]},\"xaxis\":{\"gridcolor\":\"white\",\"linecolor\":\"white\",\"ticks\":\"\",\"title\":{\"standoff\":15},\"zerolinecolor\":\"white\",\"automargin\":true,\"zerolinewidth\":2},\"yaxis\":{\"gridcolor\":\"white\",\"linecolor\":\"white\",\"ticks\":\"\",\"title\":{\"standoff\":15},\"zerolinecolor\":\"white\",\"automargin\":true,\"zerolinewidth\":2},\"scene\":{\"xaxis\":{\"backgroundcolor\":\"#E5ECF6\",\"gridcolor\":\"white\",\"linecolor\":\"white\",\"showbackground\":true,\"ticks\":\"\",\"zerolinecolor\":\"white\",\"gridwidth\":2},\"yaxis\":{\"backgroundcolor\":\"#E5ECF6\",\"gridcolor\":\"white\",\"linecolor\":\"white\",\"showbackground\":true,\"ticks\":\"\",\"zerolinecolor\":\"white\",\"gridwidth\":2},\"zaxis\":{\"backgroundcolor\":\"#E5ECF6\",\"gridcolor\":\"white\",\"linecolor\":\"white\",\"showbackground\":true,\"ticks\":\"\",\"zerolinecolor\":\"white\",\"gridwidth\":2}},\"shapedefaults\":{\"line\":{\"color\":\"#2a3f5f\"}},\"annotationdefaults\":{\"arrowcolor\":\"#2a3f5f\",\"arrowhead\":0,\"arrowwidth\":1},\"geo\":{\"bgcolor\":\"white\",\"landcolor\":\"#E5ECF6\",\"subunitcolor\":\"white\",\"showland\":true,\"showlakes\":true,\"lakecolor\":\"white\"},\"title\":{\"x\":0.05},\"mapbox\":{\"style\":\"light\"}}},\"title\":{\"text\":\"\\ub0a8\\ud559\\uc0dd\\uacfc \\uc5ec\\ud559\\uc0dd\\uc758 \\uc77c\\ud3b4\\uade0 \\uc18c\\uc15c\\ubbf8\\ub514\\uc5b4 \\uc0ac\\uc6a9\\uc2dc\\uac04 \\ube44\\uad50\",\"x\":0.5},\"font\":{\"size\":10},\"annotations\":[{\"showarrow\":false,\"text\":\"Male\",\"x\":0.2,\"y\":0.5,\"font\":{\"size\":12}},{\"showarrow\":false,\"text\":\"Female\",\"x\":0.815,\"y\":0.5,\"font\":{\"size\":12}}]},                        {\"responsive\": true}                    ).then(function(){\n",
       "                            \n",
       "var gd = document.getElementById('73c2e342-ce59-421d-a5fd-d5af6d2945ca');\n",
       "var x = new MutationObserver(function (mutations, observer) {{\n",
       "        var display = window.getComputedStyle(gd).display;\n",
       "        if (!display || display === 'none') {{\n",
       "            console.log([gd, 'removed!']);\n",
       "            Plotly.purge(gd);\n",
       "            observer.disconnect();\n",
       "        }}\n",
       "}});\n",
       "\n",
       "// Listen for the removal of the full notebook cells\n",
       "var notebookContainer = gd.closest('#notebook-container');\n",
       "if (notebookContainer) {{\n",
       "    x.observe(notebookContainer, {childList: true});\n",
       "}}\n",
       "\n",
       "// Listen for the clearing of the current output cell\n",
       "var outputEl = gd.closest('.output');\n",
       "if (outputEl) {{\n",
       "    x.observe(outputEl, {childList: true});\n",
       "}}\n",
       "\n",
       "                        })                };                });            </script>        </div>"
      ]
     },
     "metadata": {},
     "output_type": "display_data"
    }
   ],
   "source": [
    "fig = make_subplots(rows=1, cols=2, specs=[[{'type':'domain'},{'type':'domain'}]])\n",
    "fig.add_trace(go.Pie(labels=studingTimeMale['index'],values=studingTimeMale['일평균소셜미디어사용시간']),1,1)\n",
    "fig.add_trace(go.Pie(labels=studingTimeFemale['index'],values=studingTimeFemale['일평균소셜미디어사용시간']),1,2)\n",
    "fig.update_traces(hole=.4,hoverinfo=\"label+percent\")\n",
    "fig.update_layout(\n",
    "title_text=\"남학생과 여학생의 일펴균 소셜미디어 사용시간 비교\",title_x=0.5,font=dict(size=10),\n",
    "    \n",
    "annotations = [dict(text='Male',x=0.20,y=0.5,font_size=12,showarrow=False),\n",
    "                dict(text='Female',x=0.815,y=0.5,font_size=12,showarrow=False)]\n",
    ")\n",
    "fig.show()\n"
   ]
  },
  {
   "cell_type": "code",
   "execution_count": null,
   "id": "9edc5bb0",
   "metadata": {},
   "outputs": [],
   "source": [
    "fig = make_subplots(rows=1, cols=2, specs=[[{'type':'domain'},{'type':'domain'}]])\n",
    "fig.add_trace(go.Pie(labels=studingTimeMale['index'],values=studingTimeMale['']),1,1)\n",
    "fig.add_trace(go.Pie(labels=studingTimeFemale['index'],values=studingTimeFemale['일평균학습시간']),1,2)\n",
    "fig.update_traces(hole=.4,hoverinfo=\"label+percent\")\n",
    "fig.update_layout(\n",
    "title_text=\"Male vs Female\",\n",
    "    \n",
    "annotations = [dict(text='Male',x=0.20,y=0.5,font_size=12,showarrow=False),\n",
    "                dict(text='Female',x=0.815,y=0.5,font_size=12,showarrow=False)]\n",
    ")\n",
    "fig.show()\n"
   ]
  },
  {
   "cell_type": "code",
   "execution_count": 55,
   "id": "164dd6ba",
   "metadata": {},
   "outputs": [
    {
     "data": {
      "text/plain": [
       "<AxesSubplot: xlabel='기대연봉', ylabel='Count'>"
      ]
     },
     "execution_count": 55,
     "metadata": {},
     "output_type": "execute_result"
    },
    {
     "data": {
      "image/png": "[encoded data removed]",
      "text/plain": [
       "<Figure size 1000x500 with 1 Axes>"
      ]
     },
     "metadata": {},
     "output_type": "display_data"
    }
   ],
   "source": [
    "sns.set_theme()\n",
    "plt.figure(figsize=(10,5))\n",
    "plt.rcParams[\"font.family\"]=\"Malgun Gothic\"\n",
    "plt.rcParams[\"axes.unicode_minus\"] = False\n",
    "\n",
    "sns.histplot(data=df,x=\"기대연봉\",hue=\"성별\",bins=40,kde=True)\n"
   ]
  },
  {
   "cell_type": "code",
   "execution_count": 58,
   "id": "c2b8d8ec",
   "metadata": {},
   "outputs": [
    {
     "data": {
      "text/plain": [
       "<AxesSubplot: xlabel='일평균학습시간', ylabel='3학년평균성적'>"
      ]
     },
     "execution_count": 58,
     "metadata": {},
     "output_type": "execute_result"
    },
    {
     "data": {
      "image/png": "[encoded data removed]",
      "text/plain": [
       "<Figure size 640x480 with 1 Axes>"
      ]
     },
     "metadata": {},
     "output_type": "display_data"
    }
   ],
   "source": [
    "sns.histplot(data=df,x=\"일평균학습시간\",y=\"3학년평균성적\",hue=\"성별\")"
   ]
  },
  {
   "cell_type": "code",
   "execution_count": 73,
   "id": "c0bbb2e3",
   "metadata": {},
   "outputs": [
    {
     "data": {
      "text/plain": [
       "<seaborn.axisgrid.FacetGrid at 0x139569ba190>"
      ]
     },
     "execution_count": 73,
     "metadata": {},
     "output_type": "execute_result"
    },
    {
     "data": {
      "image/png": "[encoded data removed]",
      "text/plain": [
       "<Figure size 604x500 with 1 Axes>"
      ]
     },
     "metadata": {},
     "output_type": "display_data"
    }
   ],
   "source": [
    "\n",
    "sns.catplot(data=df,x=\"학업스트레스\",y=\"3학년평균성적\",hue=\"성별\",order=[\"너무 좋음\",\"좋음\",\"나쁨\",\"끔찍함\"])"
   ]
  },
  {
   "cell_type": "code",
   "execution_count": null,
   "id": "9cf03ff7",
   "metadata": {},
   "outputs": [],
   "source": []
  },
  {
   "cell_type": "code",
   "execution_count": null,
   "id": "2fc83a03",
   "metadata": {},
   "outputs": [],
   "source": []
  },
  {
   "cell_type": "code",
   "execution_count": null,
   "id": "2495a9aa",
   "metadata": {},
   "outputs": [],
   "source": []
  },
  {
   "cell_type": "code",
   "execution_count": null,
   "id": "99d6bcf3",
   "metadata": {},
   "outputs": [],
   "source": []
  },
  {
   "cell_type": "code",
   "execution_count": null,
   "id": "a37f0f61",
   "metadata": {},
   "outputs": [],
   "source": []
  },
  {
   "cell_type": "code",
   "execution_count": null,
   "id": "a51bd746",
   "metadata": {},
   "outputs": [],
   "source": []
  },
  {
   "cell_type": "code",
   "execution_count": null,
   "id": "df6f5086",
   "metadata": {},
   "outputs": [],
   "source": []
  },
  {
   "cell_type": "code",
   "execution_count": null,
   "id": "df86d2a9",
   "metadata": {},
   "outputs": [],
   "source": []
  },
  {
   "cell_type": "code",
   "execution_count": null,
   "id": "ddcd2fd6",
   "metadata": {},
   "outputs": [],
   "source": []
  },
  {
   "cell_type": "code",
   "execution_count": null,
   "id": "b9d12034",
   "metadata": {},
   "outputs": [],
   "source": []
  },
  {
   "cell_type": "code",
   "execution_count": null,
   "id": "1cd8b4de",
   "metadata": {},
   "outputs": [],
   "source": []
  },
  {
   "cell_type": "code",
   "execution_count": null,
   "id": "450eb059",
   "metadata": {},
   "outputs": [],
   "source": []
  }
 ],
 "metadata": {
  "kernelspec": {
   "display_name": "Python 3 (ipykernel)",
   "language": "python",
   "name": "python3"
  },
  "language_info": {
   "codemirror_mode": {
    "name": "ipython",
    "version": 3
   },
   "file_extension": ".py",
   "mimetype": "text/x-python",
   "name": "python",
   "nbconvert_exporter": "python",
   "pygments_lexer": "ipython3",
   "version": "3.9.13"
  }
 },
 "nbformat": 4,
 "nbformat_minor": 5
}
